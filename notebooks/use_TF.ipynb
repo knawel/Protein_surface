{
 "cells": [
  {
   "cell_type": "code",
   "execution_count": 1,
   "id": "e3dfe295-97cd-48a4-aadc-7988ee73597f",
   "metadata": {},
   "outputs": [
    {
     "name": "stderr",
     "output_type": "stream",
     "text": [
      "2023-03-17 09:37:21.453459: I tensorflow/core/platform/cpu_feature_guard.cc:193] This TensorFlow binary is optimized with oneAPI Deep Neural Network Library (oneDNN) to use the following CPU instructions in performance-critical operations:  AVX2 AVX512F FMA\n",
      "To enable them in other operations, rebuild TensorFlow with the appropriate compiler flags.\n",
      "2023-03-17 09:37:22.112212: W tensorflow/compiler/xla/stream_executor/platform/default/dso_loader.cc:64] Could not load dynamic library 'libnvinfer.so.7'; dlerror: libnvinfer.so.7: cannot open shared object file: No such file or directory; LD_LIBRARY_PATH: /data/dist/plumed2/src/lib/:/opt/gromacs/lib:/home/dima/miniconda3/envs/tf/lib/\n",
      "2023-03-17 09:37:22.112270: W tensorflow/compiler/xla/stream_executor/platform/default/dso_loader.cc:64] Could not load dynamic library 'libnvinfer_plugin.so.7'; dlerror: libnvinfer_plugin.so.7: cannot open shared object file: No such file or directory; LD_LIBRARY_PATH: /data/dist/plumed2/src/lib/:/opt/gromacs/lib:/home/dima/miniconda3/envs/tf/lib/\n",
      "2023-03-17 09:37:22.112275: W tensorflow/compiler/tf2tensorrt/utils/py_utils.cc:38] TF-TRT Warning: Cannot dlopen some TensorRT libraries. If you would like to use Nvidia GPU with TensorRT, please make sure the missing libraries mentioned above are installed properly.\n"
     ]
    }
   ],
   "source": [
    "import tensorflow as tf\n",
    "import numpy as np\n",
    "from pathlib import Path\n",
    "import gzip\n",
    "import os"
   ]
  },
  {
   "cell_type": "code",
   "execution_count": 2,
   "id": "0437db1c-2947-4c79-9ee9-4d273c3c889f",
   "metadata": {},
   "outputs": [
    {
     "name": "stdout",
     "output_type": "stream",
     "text": [
      "Num GPUs Available:  1\n"
     ]
    }
   ],
   "source": [
    "print(\"Num GPUs Available: \", len(tf.config.list_physical_devices('GPU')))"
   ]
  },
  {
   "cell_type": "code",
   "execution_count": 3,
   "id": "80fd5fd7-6f67-4829-a40d-06af36df2d83",
   "metadata": {},
   "outputs": [],
   "source": [
    "from tf_model.run_opts import config_runtime\n",
    "from src.logger import Logger\n",
    "from tf_model.dataset import read_list, read_item"
   ]
  },
  {
   "cell_type": "code",
   "execution_count": 4,
   "id": "8d9439f1-9cfb-48a9-88fd-0373651725e4",
   "metadata": {},
   "outputs": [],
   "source": [
    "def save_for_paraview(filename, xyz_tensor, color_tensor, z_shift = 0):\n",
    "    \n",
    "    # tosave = torch.cat([xyz_tensor, color_tensor[:,None]], dim=1)\n",
    "    tosave = np.concatenate((xyz_tensor, color_tensor[:, None]), axis=1)\n",
    "    # qc = tosave.cpu().detach().numpy()\n",
    "    qc = tosave\n",
    "    with open(filename, 'w') as iFile:\n",
    "        iFile.write(\"x,y,z,c\\n\")\n",
    "        for i in qc:\n",
    "            x,y,z,c = i\n",
    "            iFile.write(f'{x},{y},{z+z_shift},{c}\\n')\n",
    "    \n",
    "    return 0"
   ]
  },
  {
   "cell_type": "markdown",
   "id": "7856c14a-c2b4-4e45-94eb-75f2ba8d75e0",
   "metadata": {},
   "source": [
    "# Read"
   ]
  },
  {
   "cell_type": "code",
   "execution_count": null,
   "id": "ebe5a7ce-9e03-4f75-a6b1-766b3ea0a0c6",
   "metadata": {},
   "outputs": [],
   "source": [
    "## Parameters"
   ]
  },
  {
   "cell_type": "code",
   "execution_count": 5,
   "id": "1b02f9b0-af1f-4078-a076-eed9508ff61b",
   "metadata": {},
   "outputs": [],
   "source": [
    "n_cls = 3  # number of classes\n",
    "# conf_dev = config_runtime['device']\n",
    "train_f = config_runtime['train_frac']\n",
    "seed = config_runtime['seed']\n",
    "learning_rate = config_runtime['learning_rate']\n",
    "batch_size = config_runtime['batch_size']\n",
    "hid_size = config_runtime['hidden_size']\n",
    "log_step = config_runtime['log_step']\n",
    "epochs = config_runtime['num_epochs']\n",
    "run_name = config_runtime['run_name']"
   ]
  },
  {
   "cell_type": "code",
   "execution_count": 6,
   "id": "8abf4377-4537-477b-810d-27c8d4dbd613",
   "metadata": {},
   "outputs": [
    {
     "data": {
      "text/plain": [
       "32"
      ]
     },
     "execution_count": 6,
     "metadata": {},
     "output_type": "execute_result"
    }
   ],
   "source": [
    "hid_size"
   ]
  },
  {
   "cell_type": "markdown",
   "id": "97908b12-28e1-4a88-b288-9eb295b66654",
   "metadata": {},
   "source": [
    "## Protein"
   ]
  },
  {
   "cell_type": "code",
   "execution_count": 24,
   "id": "b1ffa67f-54bc-4260-a353-385a6f117dd3",
   "metadata": {},
   "outputs": [],
   "source": [
    "# protein = 1WVC_A 7ZX5_X\n",
    "pid = \"1WVC\"\n",
    "cid = \"A\"\n",
    "p, x, y = read_item(pid, cid)\n",
    "n_input = x.shape[1]"
   ]
  },
  {
   "cell_type": "markdown",
   "id": "e1d5f679-a1c7-4e40-b48e-a5e71a422733",
   "metadata": {},
   "source": [
    "# Model"
   ]
  },
  {
   "cell_type": "code",
   "execution_count": 25,
   "id": "7013a1d2-d928-4c90-890f-e1e72c08cd72",
   "metadata": {},
   "outputs": [],
   "source": [
    "model = tf.keras.Sequential([\n",
    "    tf.keras.layers.Dense(n_input, activation='relu'),\n",
    "    tf.keras.layers.Dense(hid_size, activation='relu'),\n",
    "    tf.keras.layers.Dropout(0.10),\n",
    "    tf.keras.layers.Dense(hid_size, activation='relu'),\n",
    "    tf.keras.layers.Dropout(0.15),\n",
    "    tf.keras.layers.Dense(hid_size, activation='relu'),\n",
    "    tf.keras.layers.Dense(16, activation='relu'),\n",
    "    tf.keras.layers.Dense(8, activation='relu'),\n",
    "    tf.keras.layers.Dense(n_cls)\n",
    "])"
   ]
  },
  {
   "cell_type": "code",
   "execution_count": 26,
   "id": "9992216c-b37b-4b38-bb38-ec147394bddd",
   "metadata": {},
   "outputs": [
    {
     "data": {
      "text/plain": [
       "<tensorflow.python.checkpoint.checkpoint.CheckpointLoadStatus at 0x7fd6a0331240>"
      ]
     },
     "execution_count": 26,
     "metadata": {},
     "output_type": "execute_result"
    }
   ],
   "source": [
    "model.compile(optimizer='adam',\n",
    "              loss=tf.keras.losses.SparseCategoricalCrossentropy(from_logits=True),\n",
    "              metrics=['accuracy'])\n",
    "model.load_weights(\"./tf_model/model/model.ckpt\")\n",
    "\n"
   ]
  },
  {
   "cell_type": "markdown",
   "id": "46331e94-347d-49c1-af1b-456a9112cf90",
   "metadata": {},
   "source": [
    "# Predict"
   ]
  },
  {
   "cell_type": "code",
   "execution_count": 27,
   "id": "db58cf7f-ef5b-40e7-86d8-0142b84357f3",
   "metadata": {},
   "outputs": [],
   "source": [
    "probability_model = tf.keras.Sequential([\n",
    "  model,\n",
    "  tf.keras.layers.Softmax()\n",
    "])"
   ]
  },
  {
   "cell_type": "code",
   "execution_count": 28,
   "id": "a217eb33-42ef-4971-89d6-5227711afee6",
   "metadata": {},
   "outputs": [],
   "source": [
    "predictions = probability_model(x)\n",
    "y_pred = np.argmax(predictions, axis=1)"
   ]
  },
  {
   "cell_type": "code",
   "execution_count": 32,
   "id": "56a49456-3992-4735-bf73-3f5bcf9976f7",
   "metadata": {},
   "outputs": [
    {
     "data": {
      "text/plain": [
       "array([1, 1, 0, 0, 0, 1, 1, 0, 1, 0, 0, 1, 1, 1, 1, 2, 2, 2, 1, 1, 1, 2,\n",
       "       2, 1, 0, 1, 0, 1, 0, 0, 0, 1, 0, 1, 1, 0, 1, 0, 0, 0, 0, 0, 0, 0,\n",
       "       1, 1, 1, 1, 1, 1, 0, 1, 2, 1, 1, 2, 1, 2, 0, 0, 0, 0, 1, 1, 2, 2,\n",
       "       0, 0, 1, 0, 1, 1, 0, 0, 0, 1, 1, 1, 0, 0, 0, 0, 0, 1, 0, 1, 1, 1,\n",
       "       0, 0, 1, 0, 0, 1, 1, 0, 0, 1, 0, 0, 0, 0, 0, 1, 1, 1, 1, 1, 1, 2,\n",
       "       2, 2, 1, 0, 0, 0, 0, 0, 0, 0, 0, 0, 0, 0, 0, 0, 0, 0, 0, 0, 0, 0,\n",
       "       0, 0, 0, 0, 1, 2, 0, 1, 2, 0, 1, 1, 1, 1, 0, 0, 1, 0, 0, 1, 1, 1,\n",
       "       1, 1, 1, 1, 1, 1, 1, 1, 1, 1, 0, 0, 0, 1, 1, 1])"
      ]
     },
     "execution_count": 32,
     "metadata": {},
     "output_type": "execute_result"
    }
   ],
   "source": [
    "y_pred[320:490]"
   ]
  },
  {
   "cell_type": "code",
   "execution_count": 31,
   "id": "857e9729-a77a-49d8-9d4c-320fb354c8fc",
   "metadata": {},
   "outputs": [
    {
     "data": {
      "text/plain": [
       "array([1, 1, 0, 0, 0, 1, 1, 0, 1, 0, 0, 1, 1, 1, 1, 1, 2, 2, 1, 1, 1, 2,\n",
       "       2, 0, 0, 1, 0, 1, 0, 0, 0, 1, 0, 1, 1, 1, 1, 0, 0, 0, 0, 1, 0, 0,\n",
       "       1, 1, 1, 1, 1, 1, 1, 1, 1, 1, 1, 1, 1, 1, 0, 0, 0, 0, 1, 1, 1, 1,\n",
       "       0, 0, 1, 1, 1, 1, 0, 0, 0, 1, 1, 1, 0, 0, 0, 0, 0, 1, 0, 1, 1, 1,\n",
       "       1, 1, 1, 0, 0, 1, 1, 1, 0, 1, 1, 0, 1, 1, 0, 1, 1, 1, 1, 1, 1, 1,\n",
       "       1, 1, 1, 0, 0, 0, 0, 0, 0, 0, 0, 0, 0, 0, 0, 0, 0, 0, 0, 0, 0, 0,\n",
       "       0, 0, 0, 0, 1, 1, 1, 1, 1, 1, 1, 1, 1, 1, 0, 0, 1, 0, 0, 1, 1, 1,\n",
       "       1, 1, 0, 0, 1, 1, 0, 0, 0, 1, 1, 1, 1, 1, 1, 1])"
      ]
     },
     "execution_count": 31,
     "metadata": {},
     "output_type": "execute_result"
    }
   ],
   "source": [
    "y[320:490]"
   ]
  },
  {
   "cell_type": "code",
   "execution_count": 33,
   "id": "46791f7c-a4e5-4207-8980-14bcae321150",
   "metadata": {},
   "outputs": [
    {
     "data": {
      "text/plain": [
       "0"
      ]
     },
     "execution_count": 33,
     "metadata": {},
     "output_type": "execute_result"
    }
   ],
   "source": [
    "save_for_paraview(f\"predicted_{pid}_{cid}.csv\", p, y_pred)\n",
    "save_for_paraview(f\"real_{pid}_{cid}.csv\", p, y)"
   ]
  }
 ],
 "metadata": {
  "kernelspec": {
   "display_name": "Python 3 (ipykernel)",
   "language": "python",
   "name": "python3"
  },
  "language_info": {
   "codemirror_mode": {
    "name": "ipython",
    "version": 3
   },
   "file_extension": ".py",
   "mimetype": "text/x-python",
   "name": "python",
   "nbconvert_exporter": "python",
   "pygments_lexer": "ipython3",
   "version": "3.10.9"
  }
 },
 "nbformat": 4,
 "nbformat_minor": 5
}
