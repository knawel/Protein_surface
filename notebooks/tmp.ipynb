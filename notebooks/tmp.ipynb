{
 "cells": [
  {
   "cell_type": "code",
   "execution_count": 1,
   "id": "52bf82c5-34c3-48ea-8591-0223bd8e992f",
   "metadata": {},
   "outputs": [
    {
     "name": "stderr",
     "output_type": "stream",
     "text": [
      "/home/dima/miniconda3/envs/amber/lib/python3.10/site-packages/tqdm/auto.py:22: TqdmWarning: IProgress not found. Please update jupyter and ipywidgets. See https://ipywidgets.readthedocs.io/en/stable/user_install.html\n",
      "  from .autonotebook import tqdm as notebook_tqdm\n"
     ]
    }
   ],
   "source": [
    "import numpy as np\n",
    "import sys\n",
    "from pathlib import Path\n",
    "import torch\n",
    "import itertools\n",
    "import gzip\n",
    "import argparse\n",
    "# Local includes\n",
    "from src.configs.general_opts import path_opts\n",
    "from src.pdb.input_output import write_precomputed"
   ]
  },
  {
   "cell_type": "code",
   "execution_count": null,
   "id": "7c8168c4-778e-4180-83ec-082b643d2561",
   "metadata": {},
   "outputs": [],
   "source": []
  },
  {
   "cell_type": "code",
   "execution_count": 2,
   "id": "aa0b07f1-233e-4b2c-bf6d-525a75317567",
   "metadata": {},
   "outputs": [],
   "source": [
    "import matplotlib.pyplot as plt "
   ]
  },
  {
   "cell_type": "code",
   "execution_count": 3,
   "id": "a9d1633d-649e-43f9-ada2-8ccb3f61faee",
   "metadata": {},
   "outputs": [],
   "source": [
    "from src.features.data_encoding import numpy_structure\n",
    "from src.geometry_processing import get_interface_for_pair, get_atom_features, atoms_to_points_normals\n",
    "from src.geometry_processing import knn_atoms, get_atom_charge, get_point_lipophilicity"
   ]
  },
  {
   "cell_type": "code",
   "execution_count": 4,
   "id": "2bc6e6b6-5bc1-4985-b950-ad778824793d",
   "metadata": {},
   "outputs": [],
   "source": [
    "from src.pdb.input_output import read_bfactor"
   ]
  },
  {
   "cell_type": "code",
   "execution_count": 5,
   "id": "8118610f-3b41-494c-af53-25da15fbacdf",
   "metadata": {},
   "outputs": [],
   "source": [
    "pid ='1FZW'\n",
    "cid = 'B'"
   ]
  },
  {
   "cell_type": "code",
   "execution_count": 6,
   "id": "7804d9cf-021c-4588-849d-d6475f056f2a",
   "metadata": {},
   "outputs": [],
   "source": [
    "chain_dir =  Path(path_opts[\"pdb_chain_dir\"])# Path(\"../data/data_preparation/00c_pdb_logp/\")\n",
    "chain_chr_dir = Path(path_opts[\"pdb_logps\"])\n",
    "# TODO add check for existing folder. If it exists, skip the computing.\n",
    "comp_dir = Path(path_opts[\"precomputed_dir\"]) / pid"
   ]
  },
  {
   "cell_type": "code",
   "execution_count": 7,
   "id": "7927e5c2-2906-45ea-bf20-0624bd6b3ba2",
   "metadata": {},
   "outputs": [],
   "source": [
    "p_filename = chain_dir / f\"{pid}_{cid}.pdb\"\n",
    "protein_encoded = numpy_structure(str(p_filename))\n",
    "xyz = protein_encoded[-1]  # coordinates"
   ]
  },
  {
   "cell_type": "code",
   "execution_count": 8,
   "id": "09053703-12b7-41fb-bc62-3c01a38ff288",
   "metadata": {},
   "outputs": [],
   "source": [
    "# TODO re-write it for tensorflow\n",
    "xyz_pt = torch.Tensor(xyz)\n",
    "b = torch.zeros((xyz_pt.size()[0],), dtype=torch.int8)  # batch numbers, here is only one batch.\n",
    "P, n, bm = atoms_to_points_normals(xyz_pt, b)"
   ]
  },
  {
   "cell_type": "code",
   "execution_count": 9,
   "id": "fbbcfeaf-2105-4b50-ae45-bb0ed7448899",
   "metadata": {},
   "outputs": [],
   "source": [
    "all_features = np.hstack(protein_encoded[:-1])  # all features except coordinates\n"
   ]
  },
  {
   "cell_type": "code",
   "execution_count": null,
   "id": "8c5a1b84-1d5f-4874-913d-300f0e9279ec",
   "metadata": {},
   "outputs": [],
   "source": [
    "P"
   ]
  },
  {
   "cell_type": "code",
   "execution_count": 10,
   "id": "f053f982-9c97-4ee4-9cd8-abc4c58d25cf",
   "metadata": {},
   "outputs": [
    {
     "name": "stderr",
     "output_type": "stream",
     "text": [
      "/home/dima/miniconda3/envs/amber/lib/python3.10/site-packages/Bio/PDB/PDBParser.py:395: PDBConstructionWarning: Ignoring unrecognized record 'END' at line 4621\n",
      "  warnings.warn(\n"
     ]
    }
   ],
   "source": [
    "atoms, atoms_chr = read_bfactor(pid, cid, chain_chr_dir)"
   ]
  },
  {
   "cell_type": "code",
   "execution_count": 11,
   "id": "c16c9203-1b17-4bdd-8d69-257b7ce6ad13",
   "metadata": {},
   "outputs": [
    {
     "data": {
      "text/plain": [
       "array([ 0.097, -0.002,  0.721, ...,  0.167,  0.167,  0.402])"
      ]
     },
     "execution_count": 11,
     "metadata": {},
     "output_type": "execute_result"
    }
   ],
   "source": [
    "atoms_chr"
   ]
  },
  {
   "cell_type": "code",
   "execution_count": null,
   "id": "ce910d1a-1088-4713-95c6-d860c7508846",
   "metadata": {},
   "outputs": [],
   "source": []
  },
  {
   "cell_type": "code",
   "execution_count": 12,
   "id": "7000c7a5-8062-4e2e-96e6-613ae8a4875f",
   "metadata": {},
   "outputs": [
    {
     "data": {
      "text/plain": [
       "(array([2576.,    0.,    0.,    0.,    0.,    0.,    0.,    0.,    0.,\n",
       "           0.,    0.,    0., 7908.,    0.,    0.,    0.,    0.,    0.,\n",
       "           0.,    0.,    0.,    0.,    0.,    0., 2548.]),\n",
       " array([0.  , 0.08, 0.16, 0.24, 0.32, 0.4 , 0.48, 0.56, 0.64, 0.72, 0.8 ,\n",
       "        0.88, 0.96, 1.04, 1.12, 1.2 , 1.28, 1.36, 1.44, 1.52, 1.6 , 1.68,\n",
       "        1.76, 1.84, 1.92, 2.  ]),\n",
       " <BarContainer object of 25 artists>)"
      ]
     },
     "execution_count": 12,
     "metadata": {},
     "output_type": "execute_result"
    },
    {
     "data": {
      "image/png": "[encoded data removed]",
      "text/plain": [
       "<Figure size 640x480 with 1 Axes>"
      ]
     },
     "metadata": {},
     "output_type": "display_data"
    }
   ],
   "source": [
    "AA = get_point_lipophilicity(xyz_pt,P,atoms_chr)\n",
    "plt.hist(AA, bins=25)"
   ]
  },
  {
   "cell_type": "code",
   "execution_count": null,
   "id": "f0fdf26a-e11e-4355-baa3-5f987d6aa480",
   "metadata": {},
   "outputs": [],
   "source": [
    "P[:8]"
   ]
  },
  {
   "cell_type": "code",
   "execution_count": null,
   "id": "393c5d15-7e7c-436a-b517-bead81a8be62",
   "metadata": {},
   "outputs": [],
   "source": [
    "atoms[15:20]"
   ]
  },
  {
   "cell_type": "code",
   "execution_count": null,
   "id": "0c0105ef-ddea-40fc-ab23-782f6d157415",
   "metadata": {},
   "outputs": [],
   "source": [
    "from pykeops.torch import LazyTensor\n"
   ]
  },
  {
   "cell_type": "code",
   "execution_count": null,
   "id": "8fa66273-48f1-41c6-b3e5-3bc7ce825869",
   "metadata": {},
   "outputs": [],
   "source": [
    "x = atoms\n",
    "p = P\n",
    "charge = atoms_chr"
   ]
  },
  {
   "cell_type": "code",
   "execution_count": null,
   "id": "d028d711-63f2-41a5-b101-97faa10b1cd2",
   "metadata": {},
   "outputs": [],
   "source": [
    "xx = torch.tensor([1, 2, 3,4,5])"
   ]
  },
  {
   "cell_type": "code",
   "execution_count": null,
   "id": "27951393-8d0e-43d5-99db-7cf29a435c53",
   "metadata": {},
   "outputs": [],
   "source": [
    "xx.repeat(3,1).T"
   ]
  },
  {
   "cell_type": "code",
   "execution_count": null,
   "id": "8ece4178-1efc-490e-8b6b-24a248e18fd9",
   "metadata": {},
   "outputs": [],
   "source": [
    "x_i = torch.Tensor(x)[:, None, :]  # (N, 1, 3) atoms\n",
    "q_i = torch.Tensor(charge)[:, None]\n",
    "y_j = torch.Tensor(p)[None, :, :]  # (1, M, 3) sampling points"
   ]
  },
  {
   "cell_type": "code",
   "execution_count": null,
   "id": "9dfdf175-5fa5-4dd5-a893-d3d6722d2387",
   "metadata": {},
   "outputs": [],
   "source": [
    "dist_ij = ((x_i - y_j) ** 2).sum(-1).sqrt()  # (N, M, 1) squared distances\n"
   ]
  },
  {
   "cell_type": "code",
   "execution_count": null,
   "id": "a40ea618-5111-45eb-9e32-98277282fd4d",
   "metadata": {},
   "outputs": [],
   "source": [
    "dist_ij[dist_ij < 2] = 1\n",
    "dist_ij[dist_ij >= 2] = 0"
   ]
  },
  {
   "cell_type": "code",
   "execution_count": null,
   "id": "7c93d060-f212-4dac-9a6e-746579d1afac",
   "metadata": {},
   "outputs": [],
   "source": [
    "print(dist_ij.shape, q_i.shape)"
   ]
  },
  {
   "cell_type": "code",
   "execution_count": null,
   "id": "979722f9-90e2-4d9c-a000-e2ce7439f1c2",
   "metadata": {},
   "outputs": [],
   "source": [
    "point_logp = torch.matmul(dist_ij.T, q_i)\n",
    "point_logp = point_logp.squeeze(dim=1)"
   ]
  },
  {
   "cell_type": "code",
   "execution_count": null,
   "id": "9611b4cb-0774-485f-80f7-0160af3f90e8",
   "metadata": {},
   "outputs": [],
   "source": [
    "levels = np.ones(point_logp.shape[0], dtype=int)\n",
    "levels[point_logp > 0.3] = 2\n",
    "levels[point_logp < -0.3] = 0"
   ]
  },
  {
   "cell_type": "code",
   "execution_count": null,
   "id": "f654f380-5b38-4266-b184-c6777cc3f612",
   "metadata": {},
   "outputs": [],
   "source": [
    "plt.hist(levels)"
   ]
  }
 ],
 "metadata": {
  "kernelspec": {
   "display_name": "Python 3 (ipykernel)",
   "language": "python",
   "name": "python3"
  },
  "language_info": {
   "codemirror_mode": {
    "name": "ipython",
    "version": 3
   },
   "file_extension": ".py",
   "mimetype": "text/x-python",
   "name": "python",
   "nbconvert_exporter": "python",
   "pygments_lexer": "ipython3",
   "version": "3.10.9"
  }
 },
 "nbformat": 4,
 "nbformat_minor": 5
}
