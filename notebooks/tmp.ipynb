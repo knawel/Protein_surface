{
 "cells": [
  {
   "cell_type": "code",
   "execution_count": 1,
   "id": "52bf82c5-34c3-48ea-8591-0223bd8e992f",
   "metadata": {},
   "outputs": [
    {
     "name": "stderr",
     "output_type": "stream",
     "text": [
      "/home/dima/miniconda3/envs/amber/lib/python3.10/site-packages/tqdm/auto.py:22: TqdmWarning: IProgress not found. Please update jupyter and ipywidgets. See https://ipywidgets.readthedocs.io/en/stable/user_install.html\n",
      "  from .autonotebook import tqdm as notebook_tqdm\n"
     ]
    }
   ],
   "source": [
    "import numpy as np\n",
    "import sys\n",
    "from pathlib import Path\n",
    "import torch\n",
    "import itertools\n",
    "import gzip\n",
    "import argparse\n",
    "# Local includes\n",
    "from src.configs.general_opts import path_opts\n",
    "from src.pdb.input_output import write_precomputed"
   ]
  },
  {
   "cell_type": "code",
   "execution_count": 22,
   "id": "a9d1633d-649e-43f9-ada2-8ccb3f61faee",
   "metadata": {},
   "outputs": [],
   "source": [
    "from src.features.data_encoding import numpy_structure\n",
    "from src.geometry_processing import get_interface_for_pair, get_atom_features, atoms_to_points_normals\n",
    "from src.geometry_processing import knn_atoms"
   ]
  },
  {
   "cell_type": "code",
   "execution_count": 2,
   "id": "8118610f-3b41-494c-af53-25da15fbacdf",
   "metadata": {},
   "outputs": [],
   "source": [
    "pid ='6BOY'\n",
    "cid = 'C'"
   ]
  },
  {
   "cell_type": "code",
   "execution_count": 4,
   "id": "7804d9cf-021c-4588-849d-d6475f056f2a",
   "metadata": {},
   "outputs": [],
   "source": [
    "chain_dir = Path(path_opts[\"pdb_chain_dir\"])\n",
    "# TODO add check for existing folder. If it exists, skip the computing.\n",
    "comp_dir = Path(path_opts[\"precomputed_dir\"]) / pid"
   ]
  },
  {
   "cell_type": "code",
   "execution_count": 8,
   "id": "7927e5c2-2906-45ea-bf20-0624bd6b3ba2",
   "metadata": {},
   "outputs": [],
   "source": [
    "p_filename = chain_dir / f\"{pid}_{cid}.pdb\"\n",
    "protein_encoded = numpy_structure(str(p_filename))\n",
    "xyz = protein_encoded[-1]  # coordinates"
   ]
  },
  {
   "cell_type": "code",
   "execution_count": 14,
   "id": "09053703-12b7-41fb-bc62-3c01a38ff288",
   "metadata": {},
   "outputs": [],
   "source": [
    "# TODO re-write it for tensorflow\n",
    "xyz_pt = torch.Tensor(xyz)\n",
    "b = torch.zeros((xyz_pt.size()[0],), dtype=torch.int8)  # batch numbers, here is only one batch.\n",
    "P, n, bm = atoms_to_points_normals(xyz_pt, b)"
   ]
  },
  {
   "cell_type": "code",
   "execution_count": 18,
   "id": "fbbcfeaf-2105-4b50-ae45-bb0ed7448899",
   "metadata": {},
   "outputs": [],
   "source": [
    "all_features = np.hstack(protein_encoded[:-1])  # all features except coordinates\n"
   ]
  },
  {
   "cell_type": "code",
   "execution_count": 20,
   "id": "5146088d-850c-43d2-a9a4-08b55f64b406",
   "metadata": {},
   "outputs": [],
   "source": [
    "# protein_encoded"
   ]
  },
  {
   "cell_type": "code",
   "execution_count": 39,
   "id": "e54678ad-f4c9-40f8-b27e-1db0db38d45e",
   "metadata": {},
   "outputs": [
    {
     "name": "stderr",
     "output_type": "stream",
     "text": [
      "/tmp/ipykernel_264684/169000176.py:1: UserWarning: To copy construct from a tensor, it is recommended to use sourceTensor.clone().detach() or sourceTensor.clone().detach().requires_grad_(True), rather than torch.tensor(sourceTensor).\n",
      "  x =  torch.tensor(P)\n",
      "/tmp/ipykernel_264684/169000176.py:2: UserWarning: To copy construct from a tensor, it is recommended to use sourceTensor.clone().detach() or sourceTensor.clone().detach().requires_grad_(True), rather than torch.tensor(sourceTensor).\n",
      "  y = torch.tensor(xyz_pt)\n"
     ]
    }
   ],
   "source": [
    "x =  torch.tensor(P)\n",
    "y = torch.tensor(xyz_pt)\n",
    "a = torch.tensor(all_features)"
   ]
  },
  {
   "cell_type": "code",
   "execution_count": 82,
   "id": "3a655513-f652-496a-8ef4-7ecd0e1bbe39",
   "metadata": {},
   "outputs": [
    {
     "data": {
      "text/plain": [
       "torch.Size([2107, 106])"
      ]
     },
     "execution_count": 82,
     "metadata": {},
     "output_type": "execute_result"
    }
   ],
   "source": [
    "a.size()"
   ]
  },
  {
   "cell_type": "code",
   "execution_count": 94,
   "id": "1535d76e-0a39-4e65-8537-4bebd332f972",
   "metadata": {},
   "outputs": [],
   "source": [
    "idx, dists = knn_atoms(x, y, k=16)  # (num_points, k)\n",
    "num_points, _ = idx.size()"
   ]
  },
  {
   "cell_type": "code",
   "execution_count": 96,
   "id": "75f42c99-8378-46f0-8aa0-0186aa90baa3",
   "metadata": {},
   "outputs": [
    {
     "data": {
      "text/plain": [
       "tensor([ 0.4676,  2.6147,  4.0737,  4.9366,  8.0192, 18.0345, 19.1126, 19.3173,\n",
       "        30.8753, 31.2411, 34.3915, 42.3332, 43.0744, 45.5213, 46.4158, 47.3844])"
      ]
     },
     "execution_count": 96,
     "metadata": {},
     "output_type": "execute_result"
    }
   ],
   "source": [
    "dists[0]"
   ]
  },
  {
   "cell_type": "code",
   "execution_count": 86,
   "id": "de8dbf1d-3b5b-4e7f-b09e-94945a424539",
   "metadata": {},
   "outputs": [],
   "source": [
    "idx = idx.view(-1)\n",
    "dists = 1 / dists.view(-1, 1)\n",
    "_, num_dims = a.size()\n",
    "\n",
    "feature = a[idx, :]\n",
    "feature = torch.cat([feature, dists], dim=1)\n",
    "feature = feature.view(num_points, 16, num_dims + 1)"
   ]
  },
  {
   "cell_type": "code",
   "execution_count": 97,
   "id": "c47fbb76-363c-493f-82e7-13b2f5f4c9e8",
   "metadata": {},
   "outputs": [],
   "source": [
    "mean_features = (feature[:, :, :-1] * feature[:, :, -1][:, :, None]).sum(dim=1)\n"
   ]
  },
  {
   "cell_type": "code",
   "execution_count": 103,
   "id": "7099fcfa-7293-4762-9367-1f1574891ed7",
   "metadata": {},
   "outputs": [
    {
     "data": {
      "text/plain": [
       "tensor([0.0000, 0.0000, 0.0000, 0.0000, 0.0000, 1.0000, 0.0000, 0.0000, 0.0000,\n",
       "        0.0000, 0.0000, 0.0000, 0.0000, 0.0000, 0.0000, 0.0000, 0.0000, 0.0000,\n",
       "        0.0000, 0.0000, 0.0000, 0.0000, 0.0000, 0.0000, 0.0000, 1.0000, 0.0000,\n",
       "        0.0000, 0.0000, 0.0000, 0.0000, 0.0000, 0.0000, 0.0000, 0.0000, 0.0000,\n",
       "        0.0000, 0.0000, 0.0000, 0.0000, 0.0000, 0.0000, 0.0000, 0.0000, 0.0000,\n",
       "        0.0000, 0.0000, 0.0000, 0.0000, 0.0000, 0.0000, 0.0000, 0.0000, 0.0000,\n",
       "        0.0000, 0.0000, 0.0000, 0.0000, 0.0000, 0.0000, 0.0000, 0.0000, 0.0000,\n",
       "        0.0000, 0.0000, 0.0000, 0.0000, 0.0000, 0.0000, 0.0000, 0.0000, 0.0000,\n",
       "        0.0000, 0.0000, 0.0000, 0.0000, 0.0000, 0.0000, 0.0000, 0.0000, 0.0000,\n",
       "        0.0000, 0.0000, 0.0000, 0.0000, 0.0000, 0.0000, 0.0000, 0.0000, 0.0000,\n",
       "        0.0000, 0.0000, 0.0000, 0.0000, 0.0000, 0.0000, 0.0000, 0.0000, 0.0000,\n",
       "        0.0000, 0.0000, 0.0000, 0.0000, 0.0000, 0.0000, 1.0000, 2.1385])"
      ]
     },
     "execution_count": 103,
     "metadata": {},
     "output_type": "execute_result"
    }
   ],
   "source": [
    "feature[0][0]"
   ]
  },
  {
   "cell_type": "code",
   "execution_count": 104,
   "id": "edffd029-4c04-43ab-8e54-bf0dcc15de40",
   "metadata": {},
   "outputs": [
    {
     "data": {
      "text/plain": [
       "tensor([0.9240, 0.0000, 0.0801, 0.0000, 0.0000, 2.5436, 0.0000, 0.0000, 0.0000,\n",
       "        0.0000, 0.0000, 0.0000, 0.0000, 0.0000, 0.0000, 0.0000, 0.0000, 0.0000,\n",
       "        0.0426, 0.0000, 0.0878, 3.4173, 0.0000, 0.0000, 0.0000, 0.0000, 0.0000,\n",
       "        0.0000, 0.0000, 0.0000, 0.0000, 0.0000, 0.0000, 0.0000, 0.0000, 0.0000,\n",
       "        0.0783, 0.0801, 0.0862, 0.0000, 0.1440, 0.4673, 0.0000, 0.0000, 0.0000,\n",
       "        0.0000, 0.1481, 0.0000, 0.0000, 0.0000, 0.0000, 0.0000, 0.0000, 0.0000,\n",
       "        0.0000, 0.0000, 0.0000, 0.0000, 0.0000, 0.0000, 0.0000, 0.0000, 0.0000,\n",
       "        0.0000, 0.0000, 0.0000, 0.0000, 0.0000, 0.0000, 0.0000, 0.0000, 0.0000,\n",
       "        0.0000, 0.0000, 0.0000, 0.0000, 0.0000, 0.0000, 0.0000, 0.0000, 0.0000,\n",
       "        0.0000, 0.0000, 0.0000, 0.0000, 0.0000, 0.0000, 0.0000, 0.0000, 0.0000,\n",
       "        0.0000, 0.0000, 0.0000, 0.0000, 0.0000, 0.0000, 0.0000, 0.0000, 0.0000,\n",
       "        0.0000, 0.1118, 0.0000, 0.0000, 0.0000, 0.0426, 2.3892])"
      ]
     },
     "execution_count": 104,
     "metadata": {},
     "output_type": "execute_result"
    }
   ],
   "source": [
    "mean_features[10]"
   ]
  }
 ],
 "metadata": {
  "kernelspec": {
   "display_name": "Python 3 (ipykernel)",
   "language": "python",
   "name": "python3"
  },
  "language_info": {
   "codemirror_mode": {
    "name": "ipython",
    "version": 3
   },
   "file_extension": ".py",
   "mimetype": "text/x-python",
   "name": "python",
   "nbconvert_exporter": "python",
   "pygments_lexer": "ipython3",
   "version": "3.10.9"
  }
 },
 "nbformat": 4,
 "nbformat_minor": 5
}
