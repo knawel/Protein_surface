{
 "cells": [
  {
   "cell_type": "code",
   "execution_count": null,
   "id": "9bfb9848-5dbc-469c-820f-4f7e7d6fa1fb",
   "metadata": {},
   "outputs": [],
   "source": [
    "import numpy as np\n",
    "import matplotlib.pyplot as plt \n",
    "import tensorflow as tf\n",
    "from pathlib import Path"
   ]
  },
  {
   "cell_type": "code",
   "execution_count": null,
   "id": "a9225a31-8c66-4381-8508-dac32928807c",
   "metadata": {},
   "outputs": [],
   "source": [
    "from src.features.data_encoding import numpy_structure"
   ]
  },
  {
   "cell_type": "markdown",
   "id": "abbd3c2c-679c-42df-ae74-9c05790b6886",
   "metadata": {},
   "source": [
    "# Constants"
   ]
  },
  {
   "cell_type": "code",
   "execution_count": null,
   "id": "686f0ba3-e36d-41cd-9118-a6309a14d6d9",
   "metadata": {},
   "outputs": [],
   "source": [
    "chain_dir = Path(\"../data/data_preparation/00a-pdbs_chains/\")\n",
    "pid = \"6BOY\"\n",
    "cid = \"C\""
   ]
  },
  {
   "cell_type": "markdown",
   "id": "4eacce57-c941-4207-a08c-8413019da57a",
   "metadata": {},
   "source": [
    "# Read"
   ]
  },
  {
   "cell_type": "code",
   "execution_count": null,
   "id": "9a708430-1bed-4428-969a-a085b48cbf7c",
   "metadata": {},
   "outputs": [],
   "source": [
    "p_filename = chain_dir / f\"{pid}_{cid}.pdb\"\n",
    "protein_encoded = numpy_structure(str(p_filename))\n",
    "xyz = protein_encoded[-1]  # coordinates"
   ]
  },
  {
   "cell_type": "markdown",
   "id": "261e4a59-37aa-4aee-a967-851b9877a645",
   "metadata": {},
   "source": [
    "# Compute points and normals"
   ]
  },
  {
   "cell_type": "code",
   "execution_count": null,
   "id": "64c94ee5-4dd3-4efd-8d32-0fe07bed96c3",
   "metadata": {},
   "outputs": [],
   "source": [
    "# P[cid], n, bm = atoms_to_points_normals(xyz_pt, b)"
   ]
  },
  {
   "cell_type": "code",
   "execution_count": null,
   "id": "2b976f64-ea19-4c91-98d9-a268a5a8a45d",
   "metadata": {},
   "outputs": [],
   "source": [
    "atoms = tf.convert_to_tensor(xyz)\n",
    "# batch,\n",
    "distance=1.05\n",
    "smoothness=0.5\n",
    "resolution=1.0\n",
    "nits=4\n",
    "atomtypes=None\n",
    "sup_sampling=20\n",
    "variance=0.1"
   ]
  },
  {
   "cell_type": "code",
   "execution_count": null,
   "id": "2d1afa8d-8039-4a49-b367-93613a0e1a66",
   "metadata": {},
   "outputs": [],
   "source": [
    "T = distance\n",
    "\n",
    "N, D = atoms.shape\n",
    "B = sup_sampling  # Sup-sampling ratio"
   ]
  },
  {
   "cell_type": "code",
   "execution_count": null,
   "id": "38113f74-e2e7-4ad4-929c-d6970409dd03",
   "metadata": {},
   "outputs": [],
   "source": [
    "g1 = tf.random.Generator.from_seed(1, alg='philox')\n",
    "random_dists = 0.2 * T * g1.normal(shape=[N, B, D])\n",
    "z = atoms[:,None,:] + random_dists"
   ]
  },
  {
   "cell_type": "code",
   "execution_count": null,
   "id": "5a26c689-8ab7-4ce2-b7c9-39d94671f510",
   "metadata": {},
   "outputs": [],
   "source": [
    "z = tf.reshape(z, [-1, D])"
   ]
  },
  {
   "cell_type": "code",
   "execution_count": null,
   "id": "86b2e1d2-2e17-4328-aabc-b5260becd63d",
   "metadata": {},
   "outputs": [],
   "source": [
    "z"
   ]
  },
  {
   "cell_type": "code",
   "execution_count": null,
   "id": "3126662c-e4b0-40fe-8815-d7e60b1c42d7",
   "metadata": {},
   "outputs": [],
   "source": [
    "mask = tf.math.logical_and(z[:,0] > 65, z[:,0] < 65.5)"
   ]
  },
  {
   "cell_type": "code",
   "execution_count": null,
   "id": "00b1680b-5486-48f7-aa5b-7aaed98c8460",
   "metadata": {},
   "outputs": [],
   "source": [
    "mask"
   ]
  },
  {
   "cell_type": "code",
   "execution_count": null,
   "id": "61ca3104-95e5-4c4b-8f4e-661113c314aa",
   "metadata": {},
   "outputs": [],
   "source": [
    "\n",
    "plt.plot( tf.boolean_mask(z[:,1], mask), tf.boolean_mask(z[:,2], mask), '.')\n",
    "# plt.plot( xyz[N_atom,0], xyz[N_atom,1], 'o')"
   ]
  },
  {
   "cell_type": "code",
   "execution_count": null,
   "id": "a77cd56b-f28f-44b1-85d4-e075d95a3918",
   "metadata": {},
   "outputs": [],
   "source": [
    "atoms.shape"
   ]
  },
  {
   "cell_type": "code",
   "execution_count": null,
   "id": "906653a1-bc5b-45c3-a929-f4ca33518117",
   "metadata": {},
   "outputs": [],
   "source": []
  },
  {
   "cell_type": "code",
   "execution_count": null,
   "id": "12651355-e1a9-4c47-af7d-72b11628c8e6",
   "metadata": {},
   "outputs": [],
   "source": []
  },
  {
   "cell_type": "code",
   "execution_count": null,
   "id": "5942f8dc-b84b-4c2e-8aee-d0257fa722f2",
   "metadata": {},
   "outputs": [],
   "source": []
  },
  {
   "cell_type": "code",
   "execution_count": null,
   "id": "684c04f2-a240-4a74-9e39-f1e941c201a1",
   "metadata": {},
   "outputs": [],
   "source": [
    "def calcf(x):\n",
    "    y = - 1.5 *x* x + 0.2 *x + 2\n",
    "    return y"
   ]
  },
  {
   "cell_type": "code",
   "execution_count": null,
   "id": "4bdc875b-719f-49c5-8c33-1fc2e0596f0c",
   "metadata": {},
   "outputs": [],
   "source": [
    "x = np.linspace(-5,5, num=30)\n",
    "y = calcf(x)"
   ]
  },
  {
   "cell_type": "code",
   "execution_count": null,
   "id": "05c52509-2809-48ce-99d1-8dfe8647d579",
   "metadata": {},
   "outputs": [],
   "source": [
    "plt.plot(x,y, '--')\n",
    "plt.show()"
   ]
  },
  {
   "cell_type": "code",
   "execution_count": null,
   "id": "00155503-64c2-4567-b412-62bff68b4c9b",
   "metadata": {},
   "outputs": [],
   "source": [
    "a = tf.random.normal([20,2]) * np.array([1.5, 4]) - np.array([1, 8])"
   ]
  },
  {
   "cell_type": "code",
   "execution_count": null,
   "id": "5e8094e5-4130-4b6e-89cf-77480072d8c5",
   "metadata": {},
   "outputs": [],
   "source": [
    "plt.plot(x,y, '--')\n",
    "plt.plot(a[:,0], a[:,1], '.')\n",
    "plt.plot(a[:,0], calcf(a[:,0]), 'o')\n",
    "plt.show()"
   ]
  },
  {
   "cell_type": "code",
   "execution_count": null,
   "id": "4fdc9d81-ffc0-48ae-a6f6-12a2b1b9ef8d",
   "metadata": {},
   "outputs": [],
   "source": []
  },
  {
   "cell_type": "code",
   "execution_count": null,
   "id": "d2cfa6a5-2579-4d46-bcaa-7aece6734425",
   "metadata": {},
   "outputs": [],
   "source": [
    "b = tf.Variable(a[:,0])"
   ]
  },
  {
   "cell_type": "code",
   "execution_count": null,
   "id": "86cbba2e-45f8-4b59-b15b-b249ba2aed25",
   "metadata": {},
   "outputs": [],
   "source": [
    "for i in range(50):\n",
    "    with tf.GradientTape() as tape:\n",
    "        tape.watch(b)\n",
    "        rb = calcf(b)\n",
    "        errors = rb - a[:,1]\n",
    "        # This is the same mean-squared-error calculation as before\n",
    "        loss = tf.reduce_mean(errors**2)\n",
    "\n",
    "    # Auto-diff magic!  Calcs gradients between loss calc and params\n",
    "    dloss_dparams = tape.gradient(loss, [b])\n",
    "\n",
    "    # # Gradients point towards +loss, so subtract to \"descend\"\n",
    "    b = b - 0.01 * dloss_dparams[0]\n",
    "# tf_icept = tf_icept - learning_rate * dloss_dparams[1]"
   ]
  },
  {
   "cell_type": "code",
   "execution_count": null,
   "id": "f05eaffd-d428-4c22-889b-f2ce4ac5a74e",
   "metadata": {},
   "outputs": [],
   "source": [
    "plt.plot(x,y, '--')\n",
    "plt.plot(b, a[:,1], '.')\n",
    "# plt.plot(a[:,0], calcf(a[:,0]), 'o')\n",
    "plt.show()"
   ]
  },
  {
   "cell_type": "code",
   "execution_count": null,
   "id": "c72019b1-1730-4f90-b0ef-cc79ad898f99",
   "metadata": {},
   "outputs": [],
   "source": [
    "c"
   ]
  }
 ],
 "metadata": {
  "kernelspec": {
   "display_name": "Python 3 (ipykernel)",
   "language": "python",
   "name": "python3"
  },
  "language_info": {
   "codemirror_mode": {
    "name": "ipython",
    "version": 3
   },
   "file_extension": ".py",
   "mimetype": "text/x-python",
   "name": "python",
   "nbconvert_exporter": "python",
   "pygments_lexer": "ipython3",
   "version": "3.10.9"
  }
 },
 "nbformat": 4,
 "nbformat_minor": 5
}
