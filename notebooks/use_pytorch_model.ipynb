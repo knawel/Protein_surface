{
 "cells": [
  {
   "cell_type": "code",
   "execution_count": 1,
   "id": "7ebf87f0-5178-442f-8dd4-f38b6c345a49",
   "metadata": {},
   "outputs": [
    {
     "name": "stderr",
     "output_type": "stream",
     "text": [
      "/home/dima/miniconda3/envs/amber/lib/python3.10/site-packages/tqdm/auto.py:22: TqdmWarning: IProgress not found. Please update jupyter and ipywidgets. See https://ipywidgets.readthedocs.io/en/stable/user_install.html\n",
      "  from .autonotebook import tqdm as notebook_tqdm\n"
     ]
    }
   ],
   "source": [
    "import torch\n",
    "from pathlib import Path\n",
    "import torch.nn as nn\n",
    "from src.data import AllVertices, ProteinRecord\n",
    "from src.nn_model import AmberNN\n",
    "from run_opts import config_runtime"
   ]
  },
  {
   "cell_type": "code",
   "execution_count": 2,
   "id": "20607a4c-4f59-4b44-95dd-37ca8ab82712",
   "metadata": {},
   "outputs": [],
   "source": [
    "n_cls = 3  # number of classes\n",
    "conf_dev = config_runtime['device']\n",
    "train_f = config_runtime['train_frac']\n",
    "learning_rate = config_runtime['learning_rate']\n",
    "batch_size = config_runtime['batch_size']\n",
    "hid_size = config_runtime['hidden_size']\n",
    "log_step = config_runtime['log_step']\n",
    "epochs = config_runtime['num_epochs']\n",
    "run_name = config_runtime['run_name']"
   ]
  },
  {
   "cell_type": "code",
   "execution_count": 3,
   "id": "f076c307-f1ec-4c47-85cf-07806cb60906",
   "metadata": {},
   "outputs": [],
   "source": [
    "device = torch.device(conf_dev)"
   ]
  },
  {
   "cell_type": "code",
   "execution_count": 4,
   "id": "788a4f0e-5df0-4511-80ce-2450d584dd8f",
   "metadata": {},
   "outputs": [],
   "source": [
    "def save_for_paraview(filename, xyz_tensor, color_tensor, z_shift = 0):\n",
    "    \n",
    "    tosave = torch.cat([xyz_tensor, color_tensor[:,None]], dim=1)\n",
    "    qc = tosave.cpu().detach().numpy()\n",
    "    with open(filename, 'w') as iFile:\n",
    "        iFile.write(\"x,y,z,c\\n\")\n",
    "        for i in qc:\n",
    "            x,y,z,c = i\n",
    "            iFile.write(f'{x},{y},{z+z_shift},{c}\\n')\n",
    "    \n",
    "    return 0"
   ]
  },
  {
   "cell_type": "markdown",
   "id": "21440d13-aaa6-4978-b647-7ea00df9df90",
   "metadata": {},
   "source": [
    "# Read model and data"
   ]
  },
  {
   "cell_type": "code",
   "execution_count": 5,
   "id": "28390a9f-3a9a-44a6-9805-cddb0f11e97e",
   "metadata": {},
   "outputs": [],
   "source": [
    "trial_pdbs = []\n",
    "with open(\"../data/lists/test.txt\", 'r') as iFile:\n",
    "    for i in iFile:\n",
    "        trial_pdbs.append(i.strip())"
   ]
  },
  {
   "cell_type": "code",
   "execution_count": 6,
   "id": "2d4cc841-a033-47c7-a875-df82f5c43c09",
   "metadata": {},
   "outputs": [
    {
     "data": {
      "text/plain": [
       "['1FZW_B', '6BOY_BC']"
      ]
     },
     "execution_count": 6,
     "metadata": {},
     "output_type": "execute_result"
    }
   ],
   "source": [
    "trial_pdbs"
   ]
  },
  {
   "cell_type": "code",
   "execution_count": 7,
   "id": "361798cc-67be-4565-a318-3bc901d00e2c",
   "metadata": {},
   "outputs": [],
   "source": [
    "pd = AllVertices(trial_pdbs)"
   ]
  },
  {
   "cell_type": "markdown",
   "id": "17c4c25f-68c4-4ca9-9583-94fe5ade6e62",
   "metadata": {},
   "source": [
    "# Predict"
   ]
  },
  {
   "cell_type": "code",
   "execution_count": 8,
   "id": "caaf9299-e859-48ce-a015-c4ccff57983f",
   "metadata": {},
   "outputs": [
    {
     "data": {
      "text/plain": [
       "{'1FZW_B': [0, 13034], '6BOY_B': [13034, 31124], '6BOY_C': [31124, 37675]}"
      ]
     },
     "execution_count": 8,
     "metadata": {},
     "output_type": "execute_result"
    }
   ],
   "source": [
    "pd.info()"
   ]
  },
  {
   "cell_type": "code",
   "execution_count": 9,
   "id": "cb65c393-840d-4950-bc30-21e8150ce961",
   "metadata": {},
   "outputs": [],
   "source": [
    "pidcid = '6BOY_C'"
   ]
  },
  {
   "cell_type": "code",
   "execution_count": 13,
   "id": "95bec09d-267c-4587-b6a0-cae66e0a9f3e",
   "metadata": {},
   "outputs": [],
   "source": [
    "# X.shape"
   ]
  },
  {
   "cell_type": "code",
   "execution_count": 14,
   "id": "a2cd3df0-0363-4fc8-ad20-d6923ffe792d",
   "metadata": {},
   "outputs": [],
   "source": [
    "X, y, p = pd.get_protein(pidcid)\n",
    "X = X.to(device)\n",
    "y = y.to(device)\n",
    "p = p.to(device)"
   ]
  },
  {
   "cell_type": "code",
   "execution_count": 15,
   "id": "46f3a208-31a5-403e-bc6c-6480deb3163b",
   "metadata": {},
   "outputs": [
    {
     "data": {
      "text/plain": [
       "AmberNN(\n",
       "  (fc1): Linear(in_features=111, out_features=256, bias=True)\n",
       "  (fc2): Linear(in_features=256, out_features=256, bias=True)\n",
       "  (fc3): Linear(in_features=256, out_features=256, bias=True)\n",
       "  (fc4): Linear(in_features=256, out_features=3, bias=True)\n",
       "  (dropout): Dropout(p=0.1, inplace=False)\n",
       ")"
      ]
     },
     "execution_count": 15,
     "metadata": {},
     "output_type": "execute_result"
    }
   ],
   "source": [
    "n_features = 111\n",
    "model = AmberNN(n_features, 3, 256).to(device)\n",
    "model.load_state_dict(torch.load(\"dnn_2023-03-02_17-29.pytorch\"))\n",
    "model.eval()"
   ]
  },
  {
   "cell_type": "code",
   "execution_count": 16,
   "id": "e17c5f22-0cb7-4105-9cdf-ddce9b612dcf",
   "metadata": {},
   "outputs": [],
   "source": [
    "with torch.no_grad():\n",
    "    logits = model(X)\n",
    "    pred_probab = nn.Softmax(dim=1)(logits)\n",
    "    y_pred = pred_probab.argmax(1)\n",
    "    # print(f\"Predicted class: {y_pred}\")"
   ]
  },
  {
   "cell_type": "code",
   "execution_count": 18,
   "id": "b5f1e7a0-0a6d-443c-a037-e9fef11c36c9",
   "metadata": {},
   "outputs": [
    {
     "data": {
      "text/plain": [
       "0"
      ]
     },
     "execution_count": 18,
     "metadata": {},
     "output_type": "execute_result"
    }
   ],
   "source": [
    "save_for_paraview(f\"predicted_{pidcid}.csv\", p, y_pred)\n",
    "save_for_paraview(f\"real_{pidcid}.csv\", p, y)"
   ]
  }
 ],
 "metadata": {
  "kernelspec": {
   "display_name": "Python 3 (ipykernel)",
   "language": "python",
   "name": "python3"
  },
  "language_info": {
   "codemirror_mode": {
    "name": "ipython",
    "version": 3
   },
   "file_extension": ".py",
   "mimetype": "text/x-python",
   "name": "python",
   "nbconvert_exporter": "python",
   "pygments_lexer": "ipython3",
   "version": "3.10.9"
  }
 },
 "nbformat": 4,
 "nbformat_minor": 5
}
