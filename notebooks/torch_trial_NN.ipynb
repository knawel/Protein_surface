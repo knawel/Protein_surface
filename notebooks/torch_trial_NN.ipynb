{
 "cells": [
  {
   "cell_type": "code",
   "execution_count": 1,
   "id": "670991eb-37cd-44fc-9336-44c35d062fec",
   "metadata": {
    "tags": []
   },
   "outputs": [
    {
     "name": "stderr",
     "output_type": "stream",
     "text": [
      "/home/dima/miniconda3/envs/amber/lib/python3.10/site-packages/tqdm/auto.py:22: TqdmWarning: IProgress not found. Please update jupyter and ipywidgets. See https://ipywidgets.readthedocs.io/en/stable/user_install.html\n",
      "  from .autonotebook import tqdm as notebook_tqdm\n"
     ]
    }
   ],
   "source": [
    "import torch\n",
    "import gzip\n",
    "from pathlib import Path\n",
    "from torch.utils.data import random_split\n",
    "from torch.utils.data import DataLoader\n",
    "import torch.nn as nn\n",
    "import torch.nn.functional as F\n",
    "from src.data import ProteinsDataset, AllVertices, ProteinRecord\n",
    "from src.nn_model import AmberNN\n"
   ]
  },
  {
   "cell_type": "code",
   "execution_count": 2,
   "id": "38f2c007-14b8-432a-8384-86f944893429",
   "metadata": {
    "tags": []
   },
   "outputs": [],
   "source": [
    "_ = torch.manual_seed(142)\n",
    "device = torch.device(\"cuda\" if torch.cuda.is_available() else \"cpu\")"
   ]
  },
  {
   "cell_type": "code",
   "execution_count": 3,
   "id": "ba7f95f6-41e1-42d0-b770-ef6e7c527bee",
   "metadata": {
    "tags": []
   },
   "outputs": [],
   "source": [
    "protein = [\"1FZW_B\", \"1GP2_BG\", \"2E7J_B\", \"2E89_A\", \"2EG5_E\", \"2NYZ_A\",\n",
    "           \"2OOR_A\", \"3AAA_AB\",\n",
    "           \"7FCT_A\", \"7MX9_A\", \"7N8G_A\", \"7QRR_A\", \"7WUG_145\"] \n",
    "# \"6BOY_BC\", <- left it for testing\n",
    "pd = AllVertices(protein)\n",
    "\n",
    "n_features = pd[0][0].shape[0]\n",
    "\n",
    "train_dataset, test_dataset = random_split(pd, [0.85, 0.15],\n",
    "             generator=torch.Generator().manual_seed(32))"
   ]
  },
  {
   "cell_type": "code",
   "execution_count": 4,
   "id": "2d192411-2e78-4717-be27-2fc18385c055",
   "metadata": {},
   "outputs": [
    {
     "name": "stdout",
     "output_type": "stream",
     "text": [
      "230080\n",
      "111\n"
     ]
    }
   ],
   "source": [
    "print(len(pd))\n",
    "print(n_features)\n"
   ]
  },
  {
   "cell_type": "code",
   "execution_count": null,
   "id": "6eb055f9-9213-45f3-bd86-22412b13ed73",
   "metadata": {},
   "outputs": [],
   "source": [
    "# test_dataset[2]"
   ]
  },
  {
   "cell_type": "code",
   "execution_count": 5,
   "id": "7eacc2f6-7693-45a2-bc7c-8c1f42b5e006",
   "metadata": {},
   "outputs": [],
   "source": [
    "learning_rate = 5e-3\n",
    "batch_size = 128\n",
    "\n",
    "# Create data loaders.\n",
    "train_dataloader = DataLoader(train_dataset, batch_size=batch_size)\n",
    "test_dataloader = DataLoader(test_dataset, batch_size=batch_size)\n",
    "\n",
    "model = AmberNN(n_features, 3, 256).to(device)\n",
    "loss_fn = nn.CrossEntropyLoss()\n",
    "optimizer = torch.optim.SGD(model.parameters(), lr=learning_rate)"
   ]
  },
  {
   "cell_type": "code",
   "execution_count": 6,
   "id": "8cb82ecd-6b0f-417e-ac6d-2c6793a70077",
   "metadata": {},
   "outputs": [],
   "source": [
    "X = torch.stack([train_dataset[333][0], train_dataset[235][0]], axis=0)\n",
    "X = X.to(device)"
   ]
  },
  {
   "cell_type": "code",
   "execution_count": 7,
   "id": "ba906973-125d-4415-be13-0ec5818296b1",
   "metadata": {},
   "outputs": [
    {
     "name": "stdout",
     "output_type": "stream",
     "text": [
      "Predicted class: tensor([0, 0], device='cuda:0')\n"
     ]
    }
   ],
   "source": [
    "logits = model(X)\n",
    "pred_probab = nn.Softmax(dim=1)(logits)\n",
    "y_pred = pred_probab.argmax(1)\n",
    "print(f\"Predicted class: {y_pred}\")"
   ]
  },
  {
   "cell_type": "code",
   "execution_count": 8,
   "id": "2d932387-8482-4160-a007-7c4ae5927535",
   "metadata": {},
   "outputs": [],
   "source": [
    "def train_loop(dataloader, model, loss_fn, optimizer):\n",
    "    size = len(dataloader.dataset)\n",
    "    for batch, (X,y) in enumerate(dataloader):\n",
    "        # Compute prediction and loss\n",
    "        X = X.to(device)\n",
    "        y = y.to(device)\n",
    "        pred = model(X)\n",
    "        loss = loss_fn(pred, y)\n",
    "\n",
    "        # Backpropagation\n",
    "        optimizer.zero_grad()\n",
    "        loss.backward()\n",
    "        optimizer.step()\n",
    "\n",
    "        if batch % 1000 == 0:\n",
    "            loss, current = loss.item(), (batch + 1) * len(X)\n",
    "            print(f\"loss: {loss:>7f}  [{current:>5d}/{size:>5d}]\")\n",
    "\n",
    "\n",
    "def test_loop(dataloader, model, loss_fn):\n",
    "    size = len(dataloader.dataset)\n",
    "    num_batches = len(dataloader)\n",
    "    test_loss, correct = 0, 0\n",
    "\n",
    "    with torch.no_grad():\n",
    "        for X, y in dataloader:\n",
    "            \n",
    "            X = X.to(device)\n",
    "            y = y.to(device)\n",
    "            pred = model(X)\n",
    "            test_loss += loss_fn(pred, y).item()\n",
    "            correct += (pred.argmax(1) == y).type(torch.float).sum().item()\n",
    "        test_loss /= num_batches\n",
    "    correct /= size\n",
    "    print(f\"Test Error: \\n Accuracy: {(100*correct):>0.1f}%, Avg loss: {test_loss:>8f} \\n\")"
   ]
  },
  {
   "cell_type": "code",
   "execution_count": 9,
   "id": "9a8adc73-27c4-4109-a595-526bd12ede90",
   "metadata": {},
   "outputs": [
    {
     "name": "stdout",
     "output_type": "stream",
     "text": [
      "Epoch 1\n",
      "-------------------------------\n",
      "loss: 1.136240  [  128/195568]\n",
      "loss: 0.916356  [128128/195568]\n",
      "Test Error: \n",
      " Accuracy: 64.5%, Avg loss: 0.814637 \n",
      "\n",
      "Epoch 2\n",
      "-------------------------------\n",
      "loss: 0.877786  [  128/195568]\n",
      "loss: 0.901410  [128128/195568]\n",
      "Test Error: \n",
      " Accuracy: 64.7%, Avg loss: 0.802857 \n",
      "\n",
      "Epoch 3\n",
      "-------------------------------\n",
      "loss: 0.847979  [  128/195568]\n",
      "loss: 0.894674  [128128/195568]\n",
      "Test Error: \n",
      " Accuracy: 65.1%, Avg loss: 0.795380 \n",
      "\n",
      "Epoch 4\n",
      "-------------------------------\n",
      "loss: 0.851564  [  128/195568]\n",
      "loss: 0.884816  [128128/195568]\n",
      "Test Error: \n",
      " Accuracy: 65.3%, Avg loss: 0.790226 \n",
      "\n",
      "Epoch 5\n",
      "-------------------------------\n",
      "loss: 0.837072  [  128/195568]\n",
      "loss: 0.863919  [128128/195568]\n",
      "Test Error: \n",
      " Accuracy: 65.5%, Avg loss: 0.784770 \n",
      "\n",
      "Epoch 6\n",
      "-------------------------------\n",
      "loss: 0.835331  [  128/195568]\n",
      "loss: 0.868621  [128128/195568]\n",
      "Test Error: \n",
      " Accuracy: 65.6%, Avg loss: 0.779945 \n",
      "\n",
      "Epoch 7\n",
      "-------------------------------\n",
      "loss: 0.851050  [  128/195568]\n",
      "loss: 0.877543  [128128/195568]\n",
      "Test Error: \n",
      " Accuracy: 65.8%, Avg loss: 0.777794 \n",
      "\n",
      "Epoch 8\n",
      "-------------------------------\n",
      "loss: 0.850572  [  128/195568]\n",
      "loss: 0.863423  [128128/195568]\n",
      "Test Error: \n",
      " Accuracy: 66.9%, Avg loss: 0.742681 \n",
      "\n",
      "Epoch 9\n",
      "-------------------------------\n",
      "loss: 0.818525  [  128/195568]\n",
      "loss: 0.820890  [128128/195568]\n",
      "Test Error: \n",
      " Accuracy: 67.2%, Avg loss: 0.736743 \n",
      "\n",
      "Epoch 10\n",
      "-------------------------------\n",
      "loss: 0.789653  [  128/195568]\n",
      "loss: 0.800017  [128128/195568]\n",
      "Test Error: \n",
      " Accuracy: 67.4%, Avg loss: 0.732061 \n",
      "\n",
      "Done!\n"
     ]
    }
   ],
   "source": [
    "epochs = 10\n",
    "for t in range(epochs):\n",
    "    print(f\"Epoch {t+1}\\n-------------------------------\")\n",
    "    train_loop(train_dataloader, model, loss_fn, optimizer)\n",
    "    test_loop(test_dataloader, model, loss_fn)\n",
    "print(\"Done!\")"
   ]
  },
  {
   "cell_type": "code",
   "execution_count": 10,
   "id": "78818636-add2-4804-a92b-8ea564b6cec9",
   "metadata": {},
   "outputs": [],
   "source": [
    "torch.save(model.state_dict(), \"20230301_model.pytorch\")"
   ]
  },
  {
   "cell_type": "markdown",
   "id": "e8657578-acc5-4ffe-ab61-5ad6602af999",
   "metadata": {},
   "source": [
    "## Test the model"
   ]
  },
  {
   "cell_type": "code",
   "execution_count": null,
   "id": "a2cd8697-c197-4375-a63e-9ce8457a084a",
   "metadata": {},
   "outputs": [],
   "source": []
  },
  {
   "cell_type": "code",
   "execution_count": null,
   "id": "4c42b336-a927-4300-bcad-19e97cb40623",
   "metadata": {},
   "outputs": [],
   "source": [
    "Trial_pdb = \"6BOY_B\""
   ]
  },
  {
   "cell_type": "code",
   "execution_count": null,
   "id": "665da8ae-7150-4267-b2cf-c947f302a118",
   "metadata": {},
   "outputs": [],
   "source": [
    "data = ProteinRecord(Trial_pdb)"
   ]
  },
  {
   "cell_type": "code",
   "execution_count": null,
   "id": "dff67995-6dea-4c43-9e8b-1272b4296d25",
   "metadata": {},
   "outputs": [],
   "source": [
    "X = data.f.to(device)\n",
    "p = data.p.to(device)\n",
    "y = data.y_aux.to(device)"
   ]
  },
  {
   "cell_type": "code",
   "execution_count": null,
   "id": "bcaba120-bf89-4cec-9919-d5e16d55dd35",
   "metadata": {},
   "outputs": [],
   "source": [
    "with torch.no_grad():\n",
    "    logits = model(X)\n",
    "    pred_probab = nn.Softmax(dim=1)(logits)\n",
    "    y_pred = pred_probab.argmax(1)\n",
    "    # print(f\"Predicted class: {y_pred}\")"
   ]
  },
  {
   "cell_type": "code",
   "execution_count": null,
   "id": "c7d94e4a-aa31-40a8-8ff6-fb58ed257d0e",
   "metadata": {},
   "outputs": [],
   "source": [
    "save_for_paraview(f\"predicted_{Trial_pdb}.csv\", p, y_pred)\n",
    "save_for_paraview(f\"real_{Trial_pdb}.csv\", p, y)\n",
    "        "
   ]
  },
  {
   "cell_type": "code",
   "execution_count": null,
   "id": "6962aca6-1e0d-4c91-9720-4557ee8c126c",
   "metadata": {},
   "outputs": [],
   "source": [
    "y[580:680]"
   ]
  }
 ],
 "metadata": {
  "kernelspec": {
   "display_name": "Python 3 (ipykernel)",
   "language": "python",
   "name": "python3"
  },
  "language_info": {
   "codemirror_mode": {
    "name": "ipython",
    "version": 3
   },
   "file_extension": ".py",
   "mimetype": "text/x-python",
   "name": "python",
   "nbconvert_exporter": "python",
   "pygments_lexer": "ipython3",
   "version": "3.10.9"
  }
 },
 "nbformat": 4,
 "nbformat_minor": 5
}
