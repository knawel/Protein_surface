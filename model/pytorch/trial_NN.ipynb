{
 "cells": [
  {
   "cell_type": "code",
   "execution_count": 1,
   "id": "bab87b3d-d6a9-4a4e-9398-503e2b1abf4e",
   "metadata": {},
   "outputs": [],
   "source": [
    "import sys\n",
    "from pathlib import Path\n",
    "from sklearn.model_selection import train_test_split"
   ]
  },
  {
   "cell_type": "code",
   "execution_count": 2,
   "id": "d41ddfd0-4f02-45f2-a401-8a55ab244f3b",
   "metadata": {},
   "outputs": [],
   "source": [
    "import torch\n",
    "from torch.utils.data import random_split\n",
    "from torch.utils.data import DataLoader\n",
    "import torch.nn as nn"
   ]
  },
  {
   "cell_type": "code",
   "execution_count": 5,
   "id": "918abd93-02f5-4031-ae8a-0f3c39539125",
   "metadata": {},
   "outputs": [],
   "source": [
    "# local libs\n",
    "from dataset import AllVertices\n",
    "from nn_model import AmberNN\n",
    "from src.logger import Logger\n",
    "from run_opts import config_runtime\n"
   ]
  },
  {
   "cell_type": "code",
   "execution_count": 6,
   "id": "bd01a78a-23c9-4cb3-a177-bcc64d6be56e",
   "metadata": {},
   "outputs": [],
   "source": [
    "_ = torch.manual_seed(142)\n",
    "device = torch.device(\"cuda\" if torch.cuda.is_available() else \"cpu\")"
   ]
  },
  {
   "cell_type": "code",
   "execution_count": 7,
   "id": "d4627555-4c5f-4e6e-8f1f-f79ac9b916f1",
   "metadata": {},
   "outputs": [],
   "source": [
    "n_cls = 3  # number of classes\n",
    "conf_dev = config_runtime['device']\n",
    "train_f = config_runtime['train_frac']\n",
    "seed = config_runtime['seed']\n",
    "learning_rate = config_runtime['learning_rate']\n",
    "batch_size = config_runtime['batch_size']\n",
    "hid_size = config_runtime['hidden_size']\n",
    "log_step = config_runtime['log_step']\n",
    "epochs = config_runtime['num_epochs']\n",
    "run_name = config_runtime['run_name']"
   ]
  },
  {
   "cell_type": "code",
   "execution_count": 61,
   "id": "c72c978d-7dbc-458b-9bd6-c2f478642cbc",
   "metadata": {},
   "outputs": [],
   "source": [
    "learning_rate = 0.01"
   ]
  },
  {
   "cell_type": "code",
   "execution_count": 10,
   "id": "1d225833-5bd7-40bd-8728-ffb9c3a9ed19",
   "metadata": {},
   "outputs": [],
   "source": [
    "# Read list of the proteins\n",
    "proteins = []\n",
    "with open(\"../../data/lists/train_chrg.txt\", 'r') as iFile:\n",
    "    for i in iFile:\n",
    "        if i[0] != '#':\n",
    "            proteins.append(i.strip())"
   ]
  },
  {
   "cell_type": "code",
   "execution_count": 15,
   "id": "d50f6b08-e782-4ddb-9ff1-d190f8f1d09b",
   "metadata": {},
   "outputs": [],
   "source": [
    "train_prots, test_prots = train_test_split(proteins, train_size=train_f, random_state=412)"
   ]
  },
  {
   "cell_type": "code",
   "execution_count": 16,
   "id": "3a23e3e7-43a0-4c34-a433-32580d4d0b4b",
   "metadata": {},
   "outputs": [
    {
     "name": "stdout",
     "output_type": "stream",
     "text": [
      "\n",
      "\n",
      "Data\n",
      "-------------------------\n",
      "Proteins: train 54   test 7\n",
      "['4g1q_B', '6TVP_AB', '1rzh_H', '2j8b_A', '1GP2_BG', '2bln_A', '6KL0_A']\n"
     ]
    }
   ],
   "source": [
    "print(\"\\n\")\n",
    "print(\"Data\")\n",
    "print(\"-------------------------\")\n",
    "print(f\"Proteins: train {len(train_prots)}   test {len(test_prots)}\")\n",
    "print(test_prots)"
   ]
  },
  {
   "cell_type": "code",
   "execution_count": 17,
   "id": "6328eb6e-5331-4073-96d4-ac2a00c2d97d",
   "metadata": {},
   "outputs": [],
   "source": [
    "train_dataset = AllVertices(train_prots)\n",
    "test_dataset = AllVertices(test_prots)\n",
    "n_features = train_dataset[0][0].shape[0]"
   ]
  },
  {
   "cell_type": "code",
   "execution_count": 18,
   "id": "bb2460b9-7da4-48a9-92f9-3c7fa49d2a57",
   "metadata": {},
   "outputs": [
    {
     "name": "stdout",
     "output_type": "stream",
     "text": [
      "Vertices: train 739661   test 109146\n",
      "Features: 106\n"
     ]
    }
   ],
   "source": [
    "print(f\"Vertices: train {len(train_dataset)}   test {len(test_dataset)}\")\n",
    "print(f\"Features: {n_features}\")"
   ]
  },
  {
   "cell_type": "code",
   "execution_count": 41,
   "id": "48c72e06-5fc6-469d-b8b9-772493403bc3",
   "metadata": {},
   "outputs": [],
   "source": [
    "# Create data loaders.\n",
    "train_dataloader = DataLoader(train_dataset, batch_size=batch_size, shuffle=True)\n",
    "test_dataloader = DataLoader(test_dataset, batch_size=batch_size, shuffle=True)"
   ]
  },
  {
   "cell_type": "code",
   "execution_count": null,
   "id": "ad660afc-0da6-45b1-83d8-18f36af283e7",
   "metadata": {},
   "outputs": [],
   "source": []
  },
  {
   "cell_type": "code",
   "execution_count": null,
   "id": "39e2395f-18ab-41a6-a1ca-68e1b6105ee6",
   "metadata": {},
   "outputs": [],
   "source": []
  },
  {
   "cell_type": "code",
   "execution_count": null,
   "id": "f8225b2c-f708-4fc5-988f-0aa2d99e0e5e",
   "metadata": {},
   "outputs": [],
   "source": []
  },
  {
   "cell_type": "code",
   "execution_count": 53,
   "id": "251d024e-ed92-4f14-8a2a-235b0b35f19c",
   "metadata": {},
   "outputs": [],
   "source": [
    "class NeuralNetwork(nn.Module):\n",
    "    def __init__(self):\n",
    "        super().__init__()\n",
    "        self.linear_relu_stack = nn.Sequential(\n",
    "            nn.Linear(n_features, 64),\n",
    "            nn.ReLU(),\n",
    "            nn.Linear(64, 32),\n",
    "            nn.Dropout(),\n",
    "            nn.ReLU(),\n",
    "            nn.Linear(32, 32),\n",
    "            nn.ReLU(),\n",
    "            nn.Linear(32, n_cls),\n",
    "        )\n",
    "\n",
    "    def forward(self, x):\n",
    "        logits = self.linear_relu_stack(x)\n",
    "        return logits"
   ]
  },
  {
   "cell_type": "code",
   "execution_count": 62,
   "id": "688c5220-93d8-4b6d-9533-126fbf696b55",
   "metadata": {},
   "outputs": [],
   "source": [
    "model = NeuralNetwork().to(device)\n",
    "loss_fn = nn.CrossEntropyLoss()\n",
    "optimizer = torch.optim.SGD(model.parameters(), lr=learning_rate)"
   ]
  },
  {
   "cell_type": "code",
   "execution_count": 63,
   "id": "efdebaf4-83ce-4ee3-9c2b-e9d424d59b86",
   "metadata": {},
   "outputs": [],
   "source": [
    "def train_loop(dataloader, model, loss_fn, optimizer):\n",
    "    size = len(dataloader.dataset)\n",
    "    for batch, (X,y) in enumerate(dataloader):\n",
    "        # Compute prediction and loss\n",
    "        X = X.to(device)\n",
    "        y = y.to(device)\n",
    "        pred = model(X)\n",
    "        loss = loss_fn(pred, y)\n",
    "\n",
    "        # Backpropagation\n",
    "        optimizer.zero_grad()\n",
    "        loss.backward()\n",
    "        optimizer.step()\n",
    "\n",
    "        if batch % 1000 == 0:\n",
    "            loss, current = loss.item(), (batch + 1) * len(X)\n",
    "            print(f\"loss: {loss:>7f}  [{current:>5d}/{size:>5d}]\")\n",
    "\n",
    "\n",
    "def test_loop(dataloader, model, loss_fn):\n",
    "    size = len(dataloader.dataset)\n",
    "    num_batches = len(dataloader)\n",
    "    test_loss, correct = 0, 0\n",
    "\n",
    "    with torch.no_grad():\n",
    "        for X, y in dataloader:\n",
    "            \n",
    "            X = X.to(device)\n",
    "            y = y.to(device)\n",
    "            pred = model(X)\n",
    "            test_loss += loss_fn(pred, y).item()\n",
    "            correct += (pred.argmax(1) == y).type(torch.float).sum().item()\n",
    "        test_loss /= num_batches\n",
    "    correct /= size\n",
    "    print(f\"Test Error: \\n Accuracy: {(100*correct):>0.1f}%, Avg loss: {test_loss:>8f} \\n\")"
   ]
  },
  {
   "cell_type": "code",
   "execution_count": 64,
   "id": "8caddd7f-7b1d-4f63-80a1-a204a3b9c341",
   "metadata": {},
   "outputs": [
    {
     "name": "stdout",
     "output_type": "stream",
     "text": [
      "Epoch 1\n",
      "-------------------------------\n",
      "loss: 1.106787  [  128/739661]\n",
      "loss: 1.047741  [128128/739661]\n",
      "loss: 0.988061  [256128/739661]\n",
      "loss: 0.940335  [384128/739661]\n",
      "loss: 0.916842  [512128/739661]\n",
      "loss: 1.007598  [640128/739661]\n",
      "Test Error: \n",
      " Accuracy: 51.5%, Avg loss: 0.967856 \n",
      "\n",
      "Epoch 2\n",
      "-------------------------------\n",
      "loss: 1.008540  [  128/739661]\n",
      "loss: 0.872582  [128128/739661]\n",
      "loss: 0.888423  [256128/739661]\n",
      "loss: 0.985062  [384128/739661]\n",
      "loss: 0.885042  [512128/739661]\n",
      "loss: 0.905500  [640128/739661]\n",
      "Test Error: \n",
      " Accuracy: 51.4%, Avg loss: 0.968624 \n",
      "\n",
      "Epoch 3\n",
      "-------------------------------\n",
      "loss: 0.905877  [  128/739661]\n",
      "loss: 0.976274  [128128/739661]\n",
      "loss: 0.886835  [256128/739661]\n",
      "loss: 0.895572  [384128/739661]\n",
      "loss: 0.957664  [512128/739661]\n",
      "loss: 0.947634  [640128/739661]\n",
      "Test Error: \n",
      " Accuracy: 51.5%, Avg loss: 0.962167 \n",
      "\n",
      "Epoch 4\n",
      "-------------------------------\n",
      "loss: 0.900497  [  128/739661]\n",
      "loss: 0.954361  [128128/739661]\n",
      "loss: 0.968699  [256128/739661]\n",
      "loss: 0.878765  [384128/739661]\n",
      "loss: 0.951688  [512128/739661]\n",
      "loss: 0.902640  [640128/739661]\n",
      "Test Error: \n",
      " Accuracy: 51.4%, Avg loss: 0.959267 \n",
      "\n",
      "Epoch 5\n",
      "-------------------------------\n",
      "loss: 0.888676  [  128/739661]\n",
      "loss: 0.962041  [128128/739661]\n",
      "loss: 0.892281  [256128/739661]\n",
      "loss: 0.892271  [384128/739661]\n",
      "loss: 0.884006  [512128/739661]\n",
      "loss: 0.882339  [640128/739661]\n",
      "Test Error: \n",
      " Accuracy: 51.7%, Avg loss: 0.950879 \n",
      "\n",
      "Epoch 6\n",
      "-------------------------------\n",
      "loss: 0.868193  [  128/739661]\n",
      "loss: 0.889313  [128128/739661]\n",
      "loss: 0.848534  [256128/739661]\n",
      "loss: 0.906938  [384128/739661]\n",
      "loss: 0.877358  [512128/739661]\n",
      "loss: 0.829794  [640128/739661]\n",
      "Test Error: \n",
      " Accuracy: 51.6%, Avg loss: 0.954071 \n",
      "\n",
      "Epoch 7\n",
      "-------------------------------\n",
      "loss: 0.919550  [  128/739661]\n",
      "loss: 0.899902  [128128/739661]\n",
      "loss: 0.959132  [256128/739661]\n",
      "loss: 0.845876  [384128/739661]\n",
      "loss: 0.901468  [512128/739661]\n",
      "loss: 0.878629  [640128/739661]\n",
      "Test Error: \n",
      " Accuracy: 51.9%, Avg loss: 0.946789 \n",
      "\n",
      "Epoch 8\n",
      "-------------------------------\n",
      "loss: 0.873616  [  128/739661]\n",
      "loss: 0.810353  [128128/739661]\n",
      "loss: 0.950988  [256128/739661]\n",
      "loss: 0.875110  [384128/739661]\n",
      "loss: 0.967557  [512128/739661]\n",
      "loss: 0.934034  [640128/739661]\n",
      "Test Error: \n",
      " Accuracy: 51.8%, Avg loss: 0.948290 \n",
      "\n",
      "Epoch 9\n",
      "-------------------------------\n",
      "loss: 0.878373  [  128/739661]\n",
      "loss: 0.915093  [128128/739661]\n",
      "loss: 0.911914  [256128/739661]\n",
      "loss: 0.858778  [384128/739661]\n",
      "loss: 0.886507  [512128/739661]\n",
      "loss: 0.860106  [640128/739661]\n",
      "Test Error: \n",
      " Accuracy: 52.0%, Avg loss: 0.951976 \n",
      "\n",
      "Epoch 10\n",
      "-------------------------------\n",
      "loss: 0.860096  [  128/739661]\n",
      "loss: 0.887666  [128128/739661]\n",
      "loss: 0.866676  [256128/739661]\n",
      "loss: 0.855614  [384128/739661]\n",
      "loss: 0.842565  [512128/739661]\n",
      "loss: 0.821073  [640128/739661]\n",
      "Test Error: \n",
      " Accuracy: 52.0%, Avg loss: 0.944876 \n",
      "\n",
      "Epoch 11\n",
      "-------------------------------\n",
      "loss: 0.911794  [  128/739661]\n",
      "loss: 0.848283  [128128/739661]\n",
      "loss: 0.985336  [256128/739661]\n",
      "loss: 0.849585  [384128/739661]\n",
      "loss: 0.949500  [512128/739661]\n",
      "loss: 0.937535  [640128/739661]\n",
      "Test Error: \n",
      " Accuracy: 52.0%, Avg loss: 0.951932 \n",
      "\n",
      "Epoch 12\n",
      "-------------------------------\n",
      "loss: 0.885672  [  128/739661]\n",
      "loss: 0.914736  [128128/739661]\n",
      "loss: 0.875956  [256128/739661]\n",
      "loss: 0.898452  [384128/739661]\n",
      "loss: 0.904785  [512128/739661]\n",
      "loss: 0.796180  [640128/739661]\n",
      "Test Error: \n",
      " Accuracy: 52.1%, Avg loss: 0.947202 \n",
      "\n",
      "Epoch 13\n",
      "-------------------------------\n",
      "loss: 0.843651  [  128/739661]\n",
      "loss: 0.975317  [128128/739661]\n",
      "loss: 0.848477  [256128/739661]\n",
      "loss: 0.949439  [384128/739661]\n",
      "loss: 0.907917  [512128/739661]\n",
      "loss: 0.869467  [640128/739661]\n",
      "Test Error: \n",
      " Accuracy: 52.3%, Avg loss: 0.949084 \n",
      "\n",
      "Epoch 14\n",
      "-------------------------------\n",
      "loss: 0.893769  [  128/739661]\n",
      "loss: 0.811346  [128128/739661]\n",
      "loss: 0.907560  [256128/739661]\n",
      "loss: 0.902414  [384128/739661]\n",
      "loss: 0.931695  [512128/739661]\n",
      "loss: 0.865225  [640128/739661]\n",
      "Test Error: \n",
      " Accuracy: 52.1%, Avg loss: 0.953521 \n",
      "\n",
      "Epoch 15\n",
      "-------------------------------\n",
      "loss: 0.897324  [  128/739661]\n",
      "loss: 0.912235  [128128/739661]\n",
      "loss: 0.912037  [256128/739661]\n",
      "loss: 0.955599  [384128/739661]\n",
      "loss: 0.881896  [512128/739661]\n",
      "loss: 0.903027  [640128/739661]\n",
      "Test Error: \n",
      " Accuracy: 51.6%, Avg loss: 0.963671 \n",
      "\n",
      "Done!\n"
     ]
    }
   ],
   "source": [
    "epochs = 15\n",
    "for t in range(epochs):\n",
    "    print(f\"Epoch {t+1}\\n-------------------------------\")\n",
    "    train_loop(train_dataloader, model, loss_fn, optimizer)\n",
    "    test_loop(test_dataloader, model, loss_fn)\n",
    "print(\"Done!\")"
   ]
  },
  {
   "cell_type": "code",
   "execution_count": null,
   "id": "f5a8997b-89d2-4708-8d3e-da36a8ab8f7a",
   "metadata": {},
   "outputs": [],
   "source": []
  },
  {
   "cell_type": "code",
   "execution_count": null,
   "id": "92b50bd7-8b56-44aa-8ea8-75e0686fa074",
   "metadata": {},
   "outputs": [],
   "source": []
  }
 ],
 "metadata": {
  "kernelspec": {
   "display_name": "Python 3",
   "language": "python",
   "name": "python3"
  },
  "language_info": {
   "codemirror_mode": {
    "name": "ipython",
    "version": 3
   },
   "file_extension": ".py",
   "mimetype": "text/x-python",
   "name": "python",
   "nbconvert_exporter": "python",
   "pygments_lexer": "ipython3",
   "version": "3.9.16"
  }
 },
 "nbformat": 4,
 "nbformat_minor": 5
}
