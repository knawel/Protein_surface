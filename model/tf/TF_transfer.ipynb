{
 "cells": [
  {
   "cell_type": "code",
   "execution_count": 1,
   "id": "37cb3cf7-77f4-4e1c-87be-6083fa465d2d",
   "metadata": {},
   "outputs": [
    {
     "name": "stderr",
     "output_type": "stream",
     "text": [
      "2023-03-20 16:37:04.336135: I tensorflow/core/platform/cpu_feature_guard.cc:193] This TensorFlow binary is optimized with oneAPI Deep Neural Network Library (oneDNN) to use the following CPU instructions in performance-critical operations:  AVX2 AVX512F FMA\n",
      "To enable them in other operations, rebuild TensorFlow with the appropriate compiler flags.\n",
      "2023-03-20 16:37:05.005823: W tensorflow/compiler/xla/stream_executor/platform/default/dso_loader.cc:64] Could not load dynamic library 'libnvinfer.so.7'; dlerror: libnvinfer.so.7: cannot open shared object file: No such file or directory; LD_LIBRARY_PATH: /data/dist/plumed2/src/lib/:/opt/gromacs/lib:/home/dima/miniconda3/envs/tf/lib/\n",
      "2023-03-20 16:37:05.005884: W tensorflow/compiler/xla/stream_executor/platform/default/dso_loader.cc:64] Could not load dynamic library 'libnvinfer_plugin.so.7'; dlerror: libnvinfer_plugin.so.7: cannot open shared object file: No such file or directory; LD_LIBRARY_PATH: /data/dist/plumed2/src/lib/:/opt/gromacs/lib:/home/dima/miniconda3/envs/tf/lib/\n",
      "2023-03-20 16:37:05.005890: W tensorflow/compiler/tf2tensorrt/utils/py_utils.cc:38] TF-TRT Warning: Cannot dlopen some TensorRT libraries. If you would like to use Nvidia GPU with TensorRT, please make sure the missing libraries mentioned above are installed properly.\n"
     ]
    }
   ],
   "source": [
    "import tensorflow as tf\n",
    "import numpy as np\n",
    "from pathlib import Path\n",
    "import gzip\n",
    "import os"
   ]
  },
  {
   "cell_type": "code",
   "execution_count": 2,
   "id": "00380417-c01d-47af-bcd2-898dfaf0820a",
   "metadata": {},
   "outputs": [],
   "source": [
    "from sklearn.model_selection import train_test_split\n",
    "import matplotlib.pyplot as plt"
   ]
  },
  {
   "cell_type": "code",
   "execution_count": 3,
   "id": "9be2b9a1-7471-4cc6-b4b8-74a2b8bcc9c4",
   "metadata": {},
   "outputs": [
    {
     "name": "stdout",
     "output_type": "stream",
     "text": [
      "Num GPUs Available:  1\n"
     ]
    }
   ],
   "source": [
    "print(\"Num GPUs Available: \", len(tf.config.list_physical_devices('GPU')))"
   ]
  },
  {
   "cell_type": "code",
   "execution_count": 4,
   "id": "426c1fce-3320-4dfb-9bbb-356dc2abc125",
   "metadata": {},
   "outputs": [],
   "source": [
    "from run_opts import config_runtime\n",
    "from src.logger import Logger\n",
    "from dataset import read_list"
   ]
  },
  {
   "cell_type": "markdown",
   "id": "0a868be0-0fa7-473d-b4ba-e2a90d56e463",
   "metadata": {},
   "source": [
    "# Read and prepare"
   ]
  },
  {
   "cell_type": "code",
   "execution_count": 5,
   "id": "4cf0a4bb-e42d-4edd-a766-1926d56d4a50",
   "metadata": {},
   "outputs": [],
   "source": [
    "n_cls = 3  # number of classes\n",
    "# conf_dev = config_runtime['device']\n",
    "train_f = config_runtime['train_frac']\n",
    "seed = config_runtime['seed']\n",
    "learning_rate = config_runtime['learning_rate']\n",
    "batch_size = config_runtime['batch_size']\n",
    "hid_size = config_runtime['hidden_size']\n",
    "log_step = config_runtime['log_step']\n",
    "epochs = config_runtime['num_epochs']\n",
    "run_name = config_runtime['run_name']\n",
    "hid_size = 32"
   ]
  },
  {
   "cell_type": "code",
   "execution_count": 6,
   "id": "879c462a-7e54-45cc-a401-36384bb54965",
   "metadata": {},
   "outputs": [
    {
     "name": "stdout",
     "output_type": "stream",
     "text": [
      "Parameters\n",
      "-------------------------\n",
      "Train fraction:    0.74\n",
      "Learning rate:     0.001\n",
      "Batch size:        512\n",
      "Hidden layer size: 32\n",
      "Number of epochs:  75\n",
      "-------------------------\n"
     ]
    }
   ],
   "source": [
    "logger = Logger(\"./\", \"train\")\n",
    "\n",
    "# store parameters\n",
    "logger.print(\"Parameters\")\n",
    "logger.print(\"-------------------------\")\n",
    "logger.print(f\"Train fraction:    {train_f}\")\n",
    "logger.print(f\"Learning rate:     {learning_rate}\")\n",
    "logger.print(f\"Batch size:        {batch_size}\")\n",
    "logger.print(f\"Hidden layer size: {hid_size}\")\n",
    "logger.print(f\"Number of epochs:  {epochs}\")\n",
    "logger.print(\"-------------------------\")"
   ]
  },
  {
   "cell_type": "code",
   "execution_count": 7,
   "id": "c16f8d10-9a7e-4a5b-8a5d-f85727de3cab",
   "metadata": {},
   "outputs": [],
   "source": [
    "# Read list of the proteins\n",
    "proteins = []\n",
    "with open(\"../../data/lists/train_logp.txt\", 'r') as iFile:\n",
    "    for i in iFile:\n",
    "        if i[0] != '#':\n",
    "            proteins.append(i.strip())"
   ]
  },
  {
   "cell_type": "code",
   "execution_count": 14,
   "id": "d4ff7fda-bb69-4471-b157-f240056eeda9",
   "metadata": {},
   "outputs": [],
   "source": [
    "train_prots, test_prots = train_test_split(proteins, train_size=0.2, random_state=342)"
   ]
  },
  {
   "cell_type": "code",
   "execution_count": 15,
   "id": "8d997e5a-9d42-4e3a-9e3d-456728389155",
   "metadata": {},
   "outputs": [
    {
     "name": "stdout",
     "output_type": "stream",
     "text": [
      "['3AAA_A'] ['1GP2_B', '4k12_A', '1bx7_A', '3onh_A', '2IXT_AB', '2OOR_A', '3FCG_B', '7R2H_A']\n"
     ]
    }
   ],
   "source": [
    "print(train_prots, test_prots)"
   ]
  },
  {
   "cell_type": "code",
   "execution_count": 16,
   "id": "35154fc7-e70d-4e3d-90b8-258eab83b37a",
   "metadata": {},
   "outputs": [],
   "source": [
    "_, feat, logp = read_list(train_prots)\n",
    "X_train = feat\n",
    "y_train = logp\n",
    "_, feat, logp = read_list(test_prots)\n",
    "X_val = feat\n",
    "y_val = logp"
   ]
  },
  {
   "cell_type": "code",
   "execution_count": 17,
   "id": "b4798aac-1591-449e-bc62-3bba673bcda9",
   "metadata": {},
   "outputs": [],
   "source": [
    "n_input = feat.shape[1]"
   ]
  },
  {
   "cell_type": "code",
   "execution_count": 118,
   "id": "02e78956-aeb3-4ec3-81fc-12319d31410a",
   "metadata": {},
   "outputs": [
    {
     "data": {
      "text/plain": [
       "(13884, 106)"
      ]
     },
     "execution_count": 118,
     "metadata": {},
     "output_type": "execute_result"
    }
   ],
   "source": [
    "X_train.shape"
   ]
  },
  {
   "cell_type": "markdown",
   "id": "5c39e665-6445-4f6f-8ed6-f83aeaa8593b",
   "metadata": {},
   "source": [
    "# Model"
   ]
  },
  {
   "cell_type": "code",
   "execution_count": 184,
   "id": "29031bee-d594-478e-927c-e59ffe606a1c",
   "metadata": {},
   "outputs": [],
   "source": [
    "model = tf.keras.Sequential([\n",
    "    tf.keras.layers.Dense(n_input, activation='relu'),\n",
    "    tf.keras.layers.Dense(hid_size, activation='relu'),\n",
    "    tf.keras.layers.Dropout(0.15),\n",
    "    tf.keras.layers.Dense(hid_size, activation='relu'),\n",
    "    tf.keras.layers.Dropout(0.15),\n",
    "    tf.keras.layers.Dense(hid_size, activation='relu'),\n",
    "    tf.keras.layers.Dropout(0.15),\n",
    "    tf.keras.layers.Dense(hid_size, activation='relu'),\n",
    "    tf.keras.layers.Dropout(0.20),\n",
    "    tf.keras.layers.Dense(hid_size, activation='relu'),\n",
    "    tf.keras.layers.Dropout(0.25),\n",
    "    tf.keras.layers.Dense(hid_size, activation='relu'),\n",
    "    tf.keras.layers.Dense(16, activation='relu'),\n",
    "    tf.keras.layers.Dense(8, activation='relu'),\n",
    "    tf.keras.layers.Dense(n_cls)\n",
    "])"
   ]
  },
  {
   "cell_type": "code",
   "execution_count": 185,
   "id": "c09513a4-3ad5-4187-9e6c-b101b48aa271",
   "metadata": {},
   "outputs": [
    {
     "data": {
      "text/plain": [
       "<tensorflow.python.checkpoint.checkpoint.CheckpointLoadStatus at 0x7fa58c662a40>"
      ]
     },
     "execution_count": 185,
     "metadata": {},
     "output_type": "execute_result"
    }
   ],
   "source": [
    "model.compile(optimizer='adam',\n",
    "              loss=tf.keras.losses.SparseCategoricalCrossentropy(from_logits=True),\n",
    "              metrics=['accuracy'])\n",
    "model.load_weights(\"./model/model.ckpt\")\n",
    "# \n"
   ]
  },
  {
   "cell_type": "code",
   "execution_count": 186,
   "id": "cb483cef-a4ae-45ed-851a-6aceb1fdfffa",
   "metadata": {},
   "outputs": [],
   "source": [
    "model.trainable = False"
   ]
  },
  {
   "cell_type": "code",
   "execution_count": 187,
   "id": "73df70da-fc5d-4a99-b8fc-68fa6943e96b",
   "metadata": {},
   "outputs": [],
   "source": [
    "model.layers[-1].trainable = True\n",
    "model.layers[-2].trainable = True"
   ]
  },
  {
   "cell_type": "code",
   "execution_count": 188,
   "id": "0310f979-28db-4fce-ba09-d4b156d0ee7c",
   "metadata": {},
   "outputs": [
    {
     "name": "stdout",
     "output_type": "stream",
     "text": [
      "(278, 106) (278,)\n"
     ]
    }
   ],
   "source": [
    "_, X_train_sub, _, y_train_sub = train_test_split(X_train, y_train, test_size=0.02, random_state=42)\n",
    "\n",
    "print(X_train_sub.shape, y_train_sub.shape)"
   ]
  },
  {
   "cell_type": "code",
   "execution_count": 189,
   "id": "d5d3ddf0-58bc-480c-a875-89c5ad425054",
   "metadata": {},
   "outputs": [
    {
     "name": "stdout",
     "output_type": "stream",
     "text": [
      "Epoch 1/25\n",
      "5/5 [==============================] - 3s 310ms/step - loss: 0.6778 - accuracy: 0.7338 - val_loss: 0.8039 - val_accuracy: 0.6316\n",
      "Epoch 2/25\n",
      "5/5 [==============================] - 1s 275ms/step - loss: 0.6063 - accuracy: 0.7986 - val_loss: 0.8162 - val_accuracy: 0.6115\n",
      "Epoch 3/25\n",
      "5/5 [==============================] - 1s 275ms/step - loss: 0.5457 - accuracy: 0.8094 - val_loss: 0.8236 - val_accuracy: 0.6077\n",
      "Epoch 4/25\n",
      "5/5 [==============================] - 1s 282ms/step - loss: 0.4745 - accuracy: 0.8633 - val_loss: 0.8382 - val_accuracy: 0.6106\n",
      "Epoch 5/25\n",
      "5/5 [==============================] - 1s 279ms/step - loss: 0.4265 - accuracy: 0.8597 - val_loss: 0.8721 - val_accuracy: 0.6103\n",
      "Epoch 6/25\n",
      "5/5 [==============================] - 1s 280ms/step - loss: 0.3722 - accuracy: 0.8885 - val_loss: 0.9428 - val_accuracy: 0.6085\n",
      "Epoch 7/25\n",
      "5/5 [==============================] - 1s 272ms/step - loss: 0.3374 - accuracy: 0.8885 - val_loss: 1.0632 - val_accuracy: 0.6041\n",
      "Epoch 8/25\n",
      "5/5 [==============================] - 1s 275ms/step - loss: 0.3023 - accuracy: 0.9029 - val_loss: 1.1241 - val_accuracy: 0.6060\n",
      "Epoch 9/25\n",
      "5/5 [==============================] - 1s 272ms/step - loss: 0.2647 - accuracy: 0.9137 - val_loss: 1.3147 - val_accuracy: 0.6039\n",
      "Epoch 10/25\n",
      "5/5 [==============================] - 1s 269ms/step - loss: 0.2514 - accuracy: 0.9137 - val_loss: 1.2718 - val_accuracy: 0.6085\n",
      "Epoch 11/25\n",
      "5/5 [==============================] - 1s 273ms/step - loss: 0.2047 - accuracy: 0.9353 - val_loss: 1.3707 - val_accuracy: 0.6050\n",
      "Epoch 12/25\n",
      "5/5 [==============================] - 1s 277ms/step - loss: 0.1932 - accuracy: 0.9317 - val_loss: 1.6162 - val_accuracy: 0.6047\n",
      "Epoch 13/25\n",
      "5/5 [==============================] - 1s 278ms/step - loss: 0.1658 - accuracy: 0.9424 - val_loss: 1.7710 - val_accuracy: 0.6094\n",
      "Epoch 14/25\n",
      "5/5 [==============================] - 1s 274ms/step - loss: 0.1901 - accuracy: 0.9532 - val_loss: 1.8159 - val_accuracy: 0.6009\n",
      "Epoch 15/25\n",
      "5/5 [==============================] - 1s 278ms/step - loss: 0.1609 - accuracy: 0.9532 - val_loss: 2.2317 - val_accuracy: 0.5886\n",
      "Epoch 16/25\n",
      "5/5 [==============================] - 1s 283ms/step - loss: 0.2274 - accuracy: 0.9496 - val_loss: 1.8467 - val_accuracy: 0.6006\n",
      "Epoch 17/25\n",
      "5/5 [==============================] - 1s 276ms/step - loss: 0.1672 - accuracy: 0.9604 - val_loss: 1.5459 - val_accuracy: 0.6082\n",
      "Epoch 18/25\n",
      "5/5 [==============================] - 1s 266ms/step - loss: 0.1802 - accuracy: 0.9532 - val_loss: 1.5463 - val_accuracy: 0.6071\n",
      "Epoch 19/25\n",
      "5/5 [==============================] - 1s 282ms/step - loss: 0.1199 - accuracy: 0.9640 - val_loss: 1.5860 - val_accuracy: 0.6074\n",
      "Epoch 20/25\n",
      "5/5 [==============================] - 1s 275ms/step - loss: 0.1695 - accuracy: 0.9388 - val_loss: 1.7189 - val_accuracy: 0.5998\n",
      "Epoch 21/25\n",
      "5/5 [==============================] - 1s 279ms/step - loss: 0.1342 - accuracy: 0.9604 - val_loss: 1.6809 - val_accuracy: 0.6041\n",
      "Epoch 22/25\n",
      "5/5 [==============================] - 1s 278ms/step - loss: 0.1217 - accuracy: 0.9640 - val_loss: 1.7432 - val_accuracy: 0.5992\n",
      "Epoch 23/25\n",
      "5/5 [==============================] - 1s 279ms/step - loss: 0.1361 - accuracy: 0.9568 - val_loss: 1.8451 - val_accuracy: 0.5938\n",
      "Epoch 24/25\n",
      "5/5 [==============================] - 1s 280ms/step - loss: 0.1436 - accuracy: 0.9604 - val_loss: 1.7916 - val_accuracy: 0.6039\n",
      "Epoch 25/25\n",
      "5/5 [==============================] - 1s 279ms/step - loss: 0.1175 - accuracy: 0.9712 - val_loss: 1.7989 - val_accuracy: 0.6091\n"
     ]
    },
    {
     "data": {
      "text/plain": [
       "<keras.callbacks.History at 0x7fa58c782d70>"
      ]
     },
     "execution_count": 189,
     "metadata": {},
     "output_type": "execute_result"
    }
   ],
   "source": [
    "model.fit(\n",
    "    X_train_sub, y_train_sub,\n",
    "    batch_size=64,\n",
    "    epochs=25,\n",
    "    validation_data=(X_val, y_val))"
   ]
  },
  {
   "cell_type": "markdown",
   "id": "be950a3f-f48c-4ba4-8bc0-c4f07612fbfb",
   "metadata": {},
   "source": [
    "# Plot for presentation"
   ]
  },
  {
   "cell_type": "code",
   "execution_count": 182,
   "id": "be95f135-ac20-4828-9f74-d69f35502fcf",
   "metadata": {},
   "outputs": [
    {
     "data": {
      "text/plain": [
       "dict_keys(['loss', 'accuracy', 'val_loss', 'val_accuracy'])"
      ]
     },
     "execution_count": 182,
     "metadata": {},
     "output_type": "execute_result"
    }
   ],
   "source": [
    "model.history.history.keys()\n"
   ]
  },
  {
   "cell_type": "code",
   "execution_count": 191,
   "id": "0bdcd336-8587-4b47-bf9a-e1917aaad5ca",
   "metadata": {},
   "outputs": [],
   "source": [
    "epochs =np.arange(25) + 1"
   ]
  },
  {
   "cell_type": "code",
   "execution_count": null,
   "id": "837fbedc-b077-4fe7-8487-d0bb060dc23a",
   "metadata": {},
   "outputs": [],
   "source": []
  },
  {
   "cell_type": "code",
   "execution_count": 183,
   "id": "2d602774-53e7-4f6d-b854-e35b22ca8e9d",
   "metadata": {},
   "outputs": [],
   "source": [
    "# without transfer learning\n",
    "acc = model.history.history['accuracy']\n",
    "val_acc = model.history.history['val_accuracy']"
   ]
  },
  {
   "cell_type": "code",
   "execution_count": 190,
   "id": "e748a0c8-2715-4e17-8cc5-6e08df3535db",
   "metadata": {},
   "outputs": [],
   "source": [
    "#with transfer learning\n",
    "acc1 = model.history.history['accuracy']\n",
    "val_acc1 = model.history.history['val_accuracy']"
   ]
  },
  {
   "cell_type": "code",
   "execution_count": 202,
   "id": "7f3d9638-e06a-4d8c-b0f3-586794da6c03",
   "metadata": {},
   "outputs": [
    {
     "data": {
      "text/plain": [
       "<matplotlib.legend.Legend at 0x7fa812a1e710>"
      ]
     },
     "execution_count": 202,
     "metadata": {},
     "output_type": "execute_result"
    },
    {
     "data": {
      "image/png": "[encoded data removed]",
      "text/plain": [
       "<Figure size 640x480 with 1 Axes>"
      ]
     },
     "metadata": {},
     "output_type": "display_data"
    }
   ],
   "source": [
    "# plt.plot(epochs, acc, c = 'blue')\n",
    "# plt.plot(epochs, acc1, c = 'green')\n",
    "\n",
    "plt.plot(epochs, val_acc, c = 'blue', label = 'model without transfer')\n",
    "plt.plot(epochs, val_acc1, c = 'green', label = 'model with transfer')\n",
    "plt.xlabel('epoch')\n",
    "plt.ylabel('accuracy')\n",
    "plt.title(\"Training the model for prediction \\n lipophilicity of the surface\")\n",
    "plt.legend()\n"
   ]
  }
 ],
 "metadata": {
  "kernelspec": {
   "display_name": "Python 3 (ipykernel)",
   "language": "python",
   "name": "python3"
  },
  "language_info": {
   "codemirror_mode": {
    "name": "ipython",
    "version": 3
   },
   "file_extension": ".py",
   "mimetype": "text/x-python",
   "name": "python",
   "nbconvert_exporter": "python",
   "pygments_lexer": "ipython3",
   "version": "3.10.9"
  }
 },
 "nbformat": 4,
 "nbformat_minor": 5
}
