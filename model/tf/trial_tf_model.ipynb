{
 "cells": [
  {
   "cell_type": "code",
   "execution_count": 1,
   "id": "c2c8c209-9dd3-42dd-8eac-748448398007",
   "metadata": {},
   "outputs": [
    {
     "name": "stderr",
     "output_type": "stream",
     "text": [
      "2023-03-10 14:20:37.973311: I tensorflow/core/platform/cpu_feature_guard.cc:193] This TensorFlow binary is optimized with oneAPI Deep Neural Network Library (oneDNN) to use the following CPU instructions in performance-critical operations:  AVX2 AVX512F FMA\n",
      "To enable them in other operations, rebuild TensorFlow with the appropriate compiler flags.\n",
      "2023-03-10 14:20:38.664157: W tensorflow/compiler/xla/stream_executor/platform/default/dso_loader.cc:64] Could not load dynamic library 'libnvinfer.so.7'; dlerror: libnvinfer.so.7: cannot open shared object file: No such file or directory; LD_LIBRARY_PATH: /data/dist/plumed2/src/lib/:/opt/gromacs/lib:/home/dima/miniconda3/envs/tf/lib/\n",
      "2023-03-10 14:20:38.664227: W tensorflow/compiler/xla/stream_executor/platform/default/dso_loader.cc:64] Could not load dynamic library 'libnvinfer_plugin.so.7'; dlerror: libnvinfer_plugin.so.7: cannot open shared object file: No such file or directory; LD_LIBRARY_PATH: /data/dist/plumed2/src/lib/:/opt/gromacs/lib:/home/dima/miniconda3/envs/tf/lib/\n",
      "2023-03-10 14:20:38.664233: W tensorflow/compiler/tf2tensorrt/utils/py_utils.cc:38] TF-TRT Warning: Cannot dlopen some TensorRT libraries. If you would like to use Nvidia GPU with TensorRT, please make sure the missing libraries mentioned above are installed properly.\n"
     ]
    }
   ],
   "source": [
    "import tensorflow as tf\n",
    "import numpy as np\n",
    "from pathlib import Path\n",
    "import gzip\n",
    "import os"
   ]
  },
  {
   "cell_type": "code",
   "execution_count": 2,
   "id": "9db63e59-91e3-4e03-b8fb-92602a2b0694",
   "metadata": {},
   "outputs": [],
   "source": [
    "from sklearn.model_selection import train_test_split"
   ]
  },
  {
   "cell_type": "code",
   "execution_count": 3,
   "id": "2e025a4c-89dd-4f0f-bad7-e0576676fd5f",
   "metadata": {},
   "outputs": [
    {
     "name": "stdout",
     "output_type": "stream",
     "text": [
      "Num GPUs Available:  1\n"
     ]
    }
   ],
   "source": [
    "print(\"Num GPUs Available: \", len(tf.config.list_physical_devices('GPU')))"
   ]
  },
  {
   "cell_type": "code",
   "execution_count": 4,
   "id": "2c51d345-ca8e-4f27-8130-a2e749a20c50",
   "metadata": {},
   "outputs": [],
   "source": [
    "from run_opts import config_runtime\n",
    "from src.logger import Logger\n",
    "from dataset import read_list"
   ]
  },
  {
   "cell_type": "markdown",
   "id": "90a93614-131f-42bb-bda7-f5f87513918d",
   "metadata": {},
   "source": [
    "# Read and prepare"
   ]
  },
  {
   "cell_type": "code",
   "execution_count": 29,
   "id": "77e43b04-8a8f-49d2-825a-d73c9a3c2089",
   "metadata": {},
   "outputs": [],
   "source": [
    "n_cls = 3  # number of classes\n",
    "# conf_dev = config_runtime['device']\n",
    "train_f = config_runtime['train_frac']\n",
    "seed = config_runtime['seed']\n",
    "learning_rate = config_runtime['learning_rate']\n",
    "batch_size = config_runtime['batch_size']\n",
    "hid_size = config_runtime['hidden_size']\n",
    "log_step = config_runtime['log_step']\n",
    "epochs = config_runtime['num_epochs']\n",
    "run_name = config_runtime['run_name']\n",
    "hid_size = 32"
   ]
  },
  {
   "cell_type": "code",
   "execution_count": 30,
   "id": "9ee5efa5-4fd6-4ca7-9162-180956eb1b23",
   "metadata": {},
   "outputs": [
    {
     "name": "stdout",
     "output_type": "stream",
     "text": [
      "Parameters\n",
      "-------------------------\n",
      "Train fraction:    0.9\n",
      "Learning rate:     0.0001\n",
      "Batch size:        64\n",
      "Hidden layer size: 32\n",
      "Number of epochs:  25\n",
      "-------------------------\n"
     ]
    }
   ],
   "source": [
    "logger = Logger(\"./\", \"train\")\n",
    "\n",
    "# store parameters\n",
    "logger.print(\"Parameters\")\n",
    "logger.print(\"-------------------------\")\n",
    "logger.print(f\"Train fraction:    {train_f}\")\n",
    "logger.print(f\"Learning rate:     {learning_rate}\")\n",
    "logger.print(f\"Batch size:        {batch_size}\")\n",
    "logger.print(f\"Hidden layer size: {hid_size}\")\n",
    "logger.print(f\"Number of epochs:  {epochs}\")\n",
    "logger.print(\"-------------------------\")"
   ]
  },
  {
   "cell_type": "code",
   "execution_count": 31,
   "id": "70e356da-f448-4c9e-a413-e7e88ff2ca1a",
   "metadata": {},
   "outputs": [],
   "source": [
    "# Read list of the proteins\n",
    "proteins = []\n",
    "with open(\"../../data/lists/train.txt\", 'r') as iFile:\n",
    "    for i in iFile:\n",
    "        if i[0] != '#':\n",
    "            proteins.append(i.strip())"
   ]
  },
  {
   "cell_type": "code",
   "execution_count": 32,
   "id": "4f2aa304-80ac-4601-bb5e-f95b8b822aa9",
   "metadata": {},
   "outputs": [],
   "source": [
    "train_prots, test_prots = train_test_split(proteins, train_size=train_f, random_state=42)"
   ]
  },
  {
   "cell_type": "code",
   "execution_count": 33,
   "id": "f74379f8-e286-4f48-987b-53fed36b046f",
   "metadata": {},
   "outputs": [],
   "source": [
    "train_prots = train_prots[:10]"
   ]
  },
  {
   "cell_type": "code",
   "execution_count": 34,
   "id": "de82d967-680e-4177-843e-8b4740e4a5bc",
   "metadata": {},
   "outputs": [],
   "source": [
    "_, feat, charge = read_list(train_prots)\n",
    "X_train = feat\n",
    "y_train = charge\n",
    "_, feat, charge = read_list(test_prots)\n",
    "X_val = feat\n",
    "y_val = charge"
   ]
  },
  {
   "cell_type": "code",
   "execution_count": 35,
   "id": "498c2e2d-1cbd-4d0b-8f21-38032a846a24",
   "metadata": {},
   "outputs": [],
   "source": [
    "n_input = feat.shape[1]"
   ]
  },
  {
   "cell_type": "code",
   "execution_count": 36,
   "id": "95fdbd73-bb10-4277-a325-ec40067620d3",
   "metadata": {},
   "outputs": [
    {
     "data": {
      "text/plain": [
       "array([2, 2, 2, ..., 2, 2, 2])"
      ]
     },
     "execution_count": 36,
     "metadata": {},
     "output_type": "execute_result"
    }
   ],
   "source": [
    "y_val"
   ]
  },
  {
   "cell_type": "markdown",
   "id": "f475fb50-18a8-4ef9-bdc5-325ca470c1f4",
   "metadata": {},
   "source": [
    "# Model"
   ]
  },
  {
   "cell_type": "code",
   "execution_count": 37,
   "id": "cfa9985b-5ae8-4e19-8dd4-45978440d060",
   "metadata": {},
   "outputs": [],
   "source": [
    "model = tf.keras.Sequential([\n",
    "    tf.keras.layers.Dense(n_input, activation='relu'),\n",
    "    tf.keras.layers.BatchNormalization(),\n",
    "    tf.keras.layers.Dense(hid_size, activation='relu'),\n",
    "    tf.keras.layers.Dense(hid_size, activation='relu'),\n",
    "    tf.keras.layers.Dropout(0.15),\n",
    "    tf.keras.layers.Dense(hid_size, activation='relu'),\n",
    "    tf.keras.layers.Dense(32, activation='relu'),\n",
    "    tf.keras.layers.Dense(n_cls)\n",
    "])\n"
   ]
  },
  {
   "cell_type": "code",
   "execution_count": 38,
   "id": "b322737c-7e09-43d3-8d67-a9815c7582d3",
   "metadata": {},
   "outputs": [],
   "source": [
    "model.compile(optimizer='adam',\n",
    "              loss=tf.keras.losses.SparseCategoricalCrossentropy(from_logits=True),\n",
    "              metrics=['accuracy'])"
   ]
  },
  {
   "cell_type": "code",
   "execution_count": 39,
   "id": "83f41acd-5e1b-46d2-beb7-28f77cf8ded1",
   "metadata": {},
   "outputs": [],
   "source": [
    "checkpoint_path = \"model/cp.ckpt\"\n",
    "checkpoint_dir = os.path.dirname(checkpoint_path)\n",
    "cp_callback = tf.keras.callbacks.ModelCheckpoint(filepath=checkpoint_path,\n",
    "                                                 save_weights_only=True,\n",
    "                                                 verbose=1)"
   ]
  },
  {
   "cell_type": "code",
   "execution_count": 40,
   "id": "7e0b6bb4-9df1-4252-b5c6-b5cdfa65cdd6",
   "metadata": {},
   "outputs": [
    {
     "name": "stdout",
     "output_type": "stream",
     "text": [
      "Epoch 1/5\n",
      "15938/15938 [==============================] - ETA: 0s - loss: 0.8877 - accuracy: 0.5765\n",
      "Epoch 1: saving model to model/cp.ckpt\n",
      "15938/15938 [==============================] - 48s 3ms/step - loss: 0.8877 - accuracy: 0.5765 - val_loss: 0.9996 - val_accuracy: 0.4923\n",
      "Epoch 2/5\n",
      "15920/15938 [============================>.] - ETA: 0s - loss: 0.8535 - accuracy: 0.5935\n",
      "Epoch 2: saving model to model/cp.ckpt\n",
      "15938/15938 [==============================] - 46s 3ms/step - loss: 0.8535 - accuracy: 0.5936 - val_loss: 1.0207 - val_accuracy: 0.4936\n",
      "Epoch 3/5\n",
      "15934/15938 [============================>.] - ETA: 0s - loss: 0.8366 - accuracy: 0.6024\n",
      "Epoch 3: saving model to model/cp.ckpt\n",
      "15938/15938 [==============================] - 48s 3ms/step - loss: 0.8366 - accuracy: 0.6024 - val_loss: 1.0433 - val_accuracy: 0.4860\n",
      "Epoch 4/5\n",
      "15926/15938 [============================>.] - ETA: 0s - loss: 0.8286 - accuracy: 0.6074\n",
      "Epoch 4: saving model to model/cp.ckpt\n",
      "15938/15938 [==============================] - 51s 3ms/step - loss: 0.8286 - accuracy: 0.6074 - val_loss: 1.0425 - val_accuracy: 0.4924\n",
      "Epoch 5/5\n",
      "15919/15938 [============================>.] - ETA: 0s - loss: 0.8210 - accuracy: 0.6124\n",
      "Epoch 5: saving model to model/cp.ckpt\n",
      "15938/15938 [==============================] - 49s 3ms/step - loss: 0.8211 - accuracy: 0.6124 - val_loss: 1.0367 - val_accuracy: 0.4995\n"
     ]
    },
    {
     "data": {
      "text/plain": [
       "<keras.callbacks.History at 0x7fdeec683820>"
      ]
     },
     "execution_count": 40,
     "metadata": {},
     "output_type": "execute_result"
    }
   ],
   "source": [
    "model.fit(\n",
    "         X_train, y_train,\n",
    "         batch_size=5,\n",
    "         epochs=5,\n",
    "         validation_data=(X_val, y_val),\n",
    "         callbacks=[cp_callback])"
   ]
  },
  {
   "cell_type": "code",
   "execution_count": null,
   "id": "ffe145c3-73e7-46b1-a347-20458dcfab64",
   "metadata": {},
   "outputs": [],
   "source": []
  },
  {
   "cell_type": "code",
   "execution_count": null,
   "id": "11b17660-9654-4b12-8755-e424d011038d",
   "metadata": {},
   "outputs": [],
   "source": []
  }
 ],
 "metadata": {
  "kernelspec": {
   "display_name": "Python 3 (ipykernel)",
   "language": "python",
   "name": "python3"
  },
  "language_info": {
   "codemirror_mode": {
    "name": "ipython",
    "version": 3
   },
   "file_extension": ".py",
   "mimetype": "text/x-python",
   "name": "python",
   "nbconvert_exporter": "python",
   "pygments_lexer": "ipython3",
   "version": "3.10.9"
  }
 },
 "nbformat": 4,
 "nbformat_minor": 5
}
